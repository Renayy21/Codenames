{
 "cells": [
  {
   "cell_type": "markdown",
   "id": "2e50dddd",
   "metadata": {},
   "source": [
    "# Codenames - Sprint 5"
   ]
  },
  {
   "cell_type": "markdown",
   "id": "e30c68d4",
   "metadata": {},
   "source": [
    "<font color='green'><b>Renee, Husein, George"
   ]
  },
  {
   "cell_type": "markdown",
   "id": "5fc13861",
   "metadata": {},
   "source": [
    "<font color='blue'>Libraries"
   ]
  },
  {
   "cell_type": "code",
   "execution_count": 1,
   "id": "53336727",
   "metadata": {},
   "outputs": [
    {
     "name": "stdout",
     "output_type": "stream",
     "text": [
      "pygame 2.4.0 (SDL 2.26.4, Python 3.9.12)\n",
      "Hello from the pygame community. https://www.pygame.org/contribute.html\n"
     ]
    },
    {
     "name": "stderr",
     "output_type": "stream",
     "text": [
      "[nltk_data] Downloading package wordnet to /Users/reneec/nltk_data...\n",
      "[nltk_data]   Package wordnet is already up-to-date!\n",
      "[nltk_data] Downloading package stopwords to\n",
      "[nltk_data]     /Users/reneec/nltk_data...\n",
      "[nltk_data]   Package stopwords is already up-to-date!\n"
     ]
    }
   ],
   "source": [
    "from gensim.models import Word2Vec\n",
    "import pandas as pd\n",
    "import numpy as np\n",
    "import random\n",
    "import PySimpleGUI as sg\n",
    "from gensim.models import KeyedVectors\n",
    "import gensim\n",
    "import gensim.downloader as api\n",
    "import pickle\n",
    "from scipy.spatial.distance import cdist\n",
    "from nltk.stem import WordNetLemmatizer\n",
    "from nltk.corpus import wordnet\n",
    "import nltk\n",
    "nltk.download('wordnet')\n",
    "from nltk.corpus import stopwords\n",
    "from nltk.tokenize import word_tokenize\n",
    "nltk.download('stopwords')\n",
    "import pickle\n",
    "import string\n",
    "from scipy.spatial.distance import cosine\n",
    "from sklearn.metrics.pairwise import cosine_similarity\n",
    "from spellchecker import SpellChecker\n",
    "import pygame"
   ]
  },
  {
   "cell_type": "markdown",
   "id": "40ff9a6e",
   "metadata": {},
   "source": [
    "<font color='blue'>Read CSV File"
   ]
  },
  {
   "cell_type": "code",
   "execution_count": 2,
   "id": "28116633",
   "metadata": {},
   "outputs": [
    {
     "data": {
      "text/html": [
       "<div>\n",
       "<style scoped>\n",
       "    .dataframe tbody tr th:only-of-type {\n",
       "        vertical-align: middle;\n",
       "    }\n",
       "\n",
       "    .dataframe tbody tr th {\n",
       "        vertical-align: top;\n",
       "    }\n",
       "\n",
       "    .dataframe thead th {\n",
       "        text-align: right;\n",
       "    }\n",
       "</style>\n",
       "<table border=\"1\" class=\"dataframe\">\n",
       "  <thead>\n",
       "    <tr style=\"text-align: right;\">\n",
       "      <th></th>\n",
       "      <th>0</th>\n",
       "      <th>people</th>\n",
       "    </tr>\n",
       "  </thead>\n",
       "  <tbody>\n",
       "    <tr>\n",
       "      <th>0</th>\n",
       "      <td>1</td>\n",
       "      <td>history</td>\n",
       "    </tr>\n",
       "    <tr>\n",
       "      <th>1</th>\n",
       "      <td>2</td>\n",
       "      <td>way</td>\n",
       "    </tr>\n",
       "    <tr>\n",
       "      <th>2</th>\n",
       "      <td>3</td>\n",
       "      <td>art</td>\n",
       "    </tr>\n",
       "    <tr>\n",
       "      <th>3</th>\n",
       "      <td>4</td>\n",
       "      <td>world</td>\n",
       "    </tr>\n",
       "    <tr>\n",
       "      <th>4</th>\n",
       "      <td>5</td>\n",
       "      <td>information</td>\n",
       "    </tr>\n",
       "  </tbody>\n",
       "</table>\n",
       "</div>"
      ],
      "text/plain": [
       "   0       people\n",
       "0  1      history\n",
       "1  2          way\n",
       "2  3          art\n",
       "3  4        world\n",
       "4  5  information"
      ]
     },
     "execution_count": 2,
     "metadata": {},
     "output_type": "execute_result"
    }
   ],
   "source": [
    "df = pd.read_csv('nouns.csv')\n",
    "df.head()"
   ]
  },
  {
   "cell_type": "markdown",
   "id": "f5fdd20e",
   "metadata": {},
   "source": [
    "<font color='blue'>DF to List"
   ]
  },
  {
   "cell_type": "code",
   "execution_count": 3,
   "id": "0ed7b1f2",
   "metadata": {
    "scrolled": true
   },
   "outputs": [
    {
     "name": "stdout",
     "output_type": "stream",
     "text": [
      "['history', 'way', 'art', 'world', 'information', 'map', 'two', 'family', 'government', 'health', 'system', 'computer', 'meat', 'year', 'thanks', 'music', 'person', 'reading', 'method', 'data', 'food', 'understanding', 'theory', 'law', 'bird', 'literature', 'problem', 'software', 'control', 'knowledge', 'power', 'ability', 'economics', 'love', 'internet', 'television', 'science', 'library', 'nature', 'fact', 'product', 'idea', 'temperature', 'investment', 'area', 'society', 'activity', 'story', 'industry', 'media', 'thing', 'oven', 'community', 'definition', 'safety', 'quality', 'development', 'language', 'management', 'player', 'variety', 'video', 'week', 'security', 'country', 'exam', 'movie', 'organization', 'equipment', 'physics', 'analysis', 'policy', 'series', 'thought', 'basis', 'boyfriend', 'direction', 'strategy', 'technology', 'army', 'camera', 'freedom', 'paper', 'environment', 'child', 'instance', 'month', 'truth', 'marketing', 'university', 'writing', 'article', 'department', 'difference', 'goal', 'news', 'audience', 'fishing', 'growth', 'income', 'marriage', 'user', 'combination', 'failure', 'meaning', 'medicine', 'philosophy', 'teacher', 'communication', 'night', 'chemistry', 'disease', 'disk', 'energy', 'nation', 'road', 'role', 'soup', 'advertising', 'location', 'success', 'addition', 'apartment', 'education', 'math', 'moment', 'painting', 'politics', 'attention', 'decision', 'event', 'property', 'shopping', 'student', 'wood', 'competition', 'distribution', 'entertainment', 'office', 'population', 'president', 'unit', 'category', 'cigarette', 'context', 'introduction', 'opportunity', 'performance', 'driver', 'flight', 'length', 'magazine', 'newspaper', 'relationship', 'teaching', 'cell', 'dealer', 'finding', 'lake', 'member', 'message', 'phone', 'scene', 'appearance', 'association', 'concept', 'customer', 'death', 'discussion', 'housing', 'inflation', 'insurance', 'mood', 'woman', 'advice', 'blood', 'effort', 'expression', 'importance', 'opinion', 'payment', 'reality', 'responsibility', 'situation', 'skill', 'statement', 'wealth', 'application', 'city', 'county', 'depth', 'estate', 'foundation', 'grandmother', 'heart', 'perspective', 'photo', 'recipe', 'studio', 'topic', 'collection', 'depression', 'imagination', 'passion', 'percentage', 'resource', 'setting', 'ad', 'agency', 'college', 'connection', 'criticism', 'debt', 'description', 'memory', 'patience', 'secretary', 'solution', 'administration', 'aspect', 'attitude', 'director', 'personality', 'psychology', 'recommendation', 'response', 'selection', 'storage', 'version', 'alcohol', 'argument', 'complaint', 'contract', 'emphasis', 'highway', 'loss', 'membership', 'possession', 'preparation', 'steak', 'union', 'agreement', 'cancer', 'currency', 'employment', 'engineering', 'entry', 'interaction', 'mixture', 'preference', 'region', 'republic', 'tradition', 'virus', 'actor', 'classroom', 'delivery', 'device', 'difficulty', 'drama', 'election', 'engine', 'football', 'guidance', 'hotel', 'owner', 'priority', 'protection', 'suggestion', 'tension', 'variation', 'anxiety', 'atmosphere', 'awareness', 'bath', 'bread', 'candidate', 'climate', 'comparison', 'confusion', 'construction', 'elevator', 'emotion', 'employee', 'employer', 'guest', 'height', 'leadership', 'mall', 'manager', 'operation', 'recording', 'sample', 'transportation', 'charity', 'cousin', 'disaster', 'editor', 'efficiency', 'excitement', 'extent', 'feedback', 'guitar', 'homework', 'leader', 'mom', 'outcome', 'permission', 'presentation', 'promotion', 'reflection', 'refrigerator', 'resolution', 'revenue', 'session', 'singer', 'tennis', 'basket', 'bonus', 'cabinet', 'childhood', 'church', 'clothes', 'coffee', 'dinner', 'drawing', 'hair', 'hearing', 'initiative', 'judgment', 'lab', 'measurement', 'mode', 'mud', 'orange', 'poetry', 'police', 'possibility', 'procedure', 'queen', 'ratio', 'relation', 'restaurant', 'satisfaction', 'sector', 'signature', 'significance', 'song', 'tooth', 'town', 'vehicle', 'volume', 'wife', 'accident', 'airport', 'appointment', 'arrival', 'assumption', 'baseball', 'chapter', 'committee', 'conversation', 'database', 'enthusiasm', 'error', 'explanation', 'farmer', 'gate', 'girl', 'hall', 'historian', 'hospital', 'injury', 'instruction', 'maintenance', 'manufacturer', 'meal', 'perception', 'pie', 'poem', 'presence', 'proposal', 'reception', 'replacement', 'revolution', 'river', 'son', 'speech', 'tea', 'village', 'warning', 'winner', 'worker', 'writer', 'assistance', 'breath', 'buyer', 'chest', 'chocolate', 'conclusion', 'contribution', 'cookie', 'courage', 'dad', 'desk', 'drawer', 'establishment', 'examination', 'garbage', 'grocery', 'honey', 'impression', 'improvement', 'independence', 'insect', 'inspection', 'inspector', 'king', 'ladder', 'menu', 'penalty', 'piano', 'potato', 'profession', 'professor', 'quantity', 'reaction', 'requirement', 'salad', 'sister', 'supermarket', 'tongue', 'weakness', 'wedding', 'affair', 'ambition', 'analyst', 'apple', 'assignment', 'assistant', 'bathroom', 'bedroom', 'beer', 'birthday', 'celebration', 'championship', 'cheek', 'client', 'consequence', 'departure', 'diamond', 'dirt', 'ear', 'fortune', 'friendship', 'funeral', 'gene', 'girlfriend', 'hat', 'indication', 'intention', 'lady', 'midnight', 'negotiation', 'obligation', 'passenger', 'pizza', 'platform', 'poet', 'pollution', 'recognition', 'reputation', 'shirt', 'sir', 'speaker', 'stranger', 'surgery', 'sympathy', 'tale', 'throat', 'trainer', 'uncle', 'youth', 'time', 'work', 'film', 'water', 'money', 'example', 'while', 'business', 'study', 'game', 'life', 'form', 'air', 'day', 'place', 'number', 'part', 'field', 'fish', 'back', 'process', 'heat', 'hand', 'experience', 'job', 'book', 'end', 'point', 'type', 'home', 'economy', 'value', 'body', 'market', 'guide', 'interest', 'state', 'radio', 'course', 'company', 'price', 'size', 'card', 'list', 'mind', 'trade', 'line', 'care', 'group', 'risk', 'word', 'fat', 'force', 'key', 'light', 'training', 'name', 'school', 'top', 'amount', 'level', 'order', 'practice', 'research', 'sense', 'service', 'piece', 'web', 'boss', 'sport', 'fun', 'house', 'page', 'term', 'test', 'answer', 'sound', 'focus', 'matter', 'kind', 'soil', 'board', 'oil', 'picture', 'access', 'garden', 'range', 'rate', 'reason', 'future', 'site', 'demand', 'exercise', 'image', 'case', 'cause', 'coast', 'action', 'age', 'bad', 'boat', 'record', 'result', 'section', 'building', 'mouse', 'cash', 'class', 'nothing', 'period', 'plan', 'store', 'tax', 'side', 'subject', 'space', 'rule', 'stock', 'weather', 'chance', 'figure', 'man', 'model', 'source', 'beginning', 'earth', 'program', 'chicken', 'design', 'feature', 'head', 'material', 'purpose', 'question', 'rock', 'salt', 'act', 'birth', 'car', 'dog', 'object', 'scale', 'sun', 'note', 'profit', 'rent', 'speed', 'style', 'war', 'bank', 'craft', 'half', 'inside', 'outside', 'standard', 'bus', 'exchange', 'eye', 'fire', 'position', 'pressure', 'stress', 'advantage', 'benefit', 'box', 'frame', 'issue', 'step', 'cycle', 'face', 'item', 'metal', 'paint', 'review', 'room', 'screen', 'structure', 'view', 'account', 'ball', 'discipline', 'medium', 'share', 'balance', 'bit', 'black', 'bottom', 'choice', 'gift', 'impact', 'machine', 'shape', 'tool', 'wind', 'address', 'average', 'career', 'culture', 'morning', 'pot', 'sign', 'table', 'task', 'condition', 'contact', 'credit', 'egg', 'hope', 'ice', 'network', 'north', 'square', 'attempt', 'date', 'effect', 'link', 'post', 'star', 'voice', 'capital', 'challenge', 'friend', 'self', 'shot', 'brush', 'couple', 'debate', 'exit', 'front', 'function', 'lack', 'living', 'plant', 'plastic', 'spot', 'summer', 'taste', 'theme', 'track', 'wing', 'brain', 'button', 'click', 'desire', 'foot', 'gas', 'influence', 'notice', 'rain', 'wall', 'base', 'damage', 'distance', 'feeling', 'pair', 'savings', 'staff', 'sugar', 'target', 'text', 'animal', 'author', 'budget', 'discount', 'file', 'ground', 'lesson', 'minute', 'officer', 'phase', 'reference', 'register', 'sky', 'stage', 'stick', 'title', 'trouble', 'bowl', 'bridge', 'campaign', 'character', 'club', 'edge', 'evidence', 'fan', 'letter', 'lock', 'maximum', 'novel', 'option', 'pack', 'park', 'plenty', 'quarter', 'skin', 'sort', 'weight', 'baby', 'background', 'carry', 'dish', 'factor', 'fruit', 'glass', 'joint', 'master', 'muscle', 'red', 'strength', 'traffic', 'trip', 'vegetable', 'appeal', 'chart', 'gear', 'ideal', 'kitchen', 'land', 'log', 'mother', 'net', 'party', 'principle', 'relative', 'sale', 'season', 'signal', 'spirit', 'street', 'tree', 'wave', 'belt', 'bench', 'commission', 'copy', 'drop', 'minimum', 'path', 'progress', 'project', 'sea', 'south', 'status', 'stuff', 'ticket', 'tour', 'angle', 'blue', 'breakfast', 'confidence', 'daughter', 'degree', 'doctor', 'dot', 'dream', 'duty', 'essay', 'father', 'fee', 'finance', 'hour', 'juice', 'limit', 'luck', 'milk', 'mouth', 'peace', 'pipe', 'seat', 'stable', 'storm', 'substance', 'team', 'trick', 'afternoon', 'bat', 'beach', 'blank', 'catch', 'chain', 'consideration', 'cream', 'crew', 'detail', 'gold', 'interview', 'kid', 'mark', 'match', 'mission', 'pain', 'pleasure', 'score', 'screw', 'sex', 'shop', 'shower', 'suit', 'tone', 'window', 'agent', 'band', 'block', 'bone', 'calendar', 'cap', 'coat', 'contest', 'corner', 'court', 'cup', 'district', 'door', 'east', 'finger', 'garage', 'guarantee', 'hole', 'hook', 'implement', 'layer', 'lecture', 'lie', 'manner', 'meeting', 'nose', 'parking', 'partner', 'profile', 'respect', 'rice', 'routine', 'schedule', 'swimming', 'telephone', 'tip', 'winter', 'airline', 'bag', 'battle', 'bed', 'bill', 'bother', 'cake', 'code', 'curve', 'designer', 'dimension', 'dress', 'ease', 'emergency', 'evening', 'extension', 'farm', 'fight', 'gap', 'grade', 'holiday', 'horror', 'horse', 'host', 'husband', 'loan', 'mistake', 'mountain', 'nail', 'noise', 'occasion', 'package', 'patient', 'pause', 'phrase', 'proof', 'race', 'relief', 'sand', 'sentence', 'shoulder', 'smoke', 'stomach', 'string', 'tourist', 'towel', 'vacation', 'west', 'wheel', 'wine', 'arm', 'aside', 'associate', 'bet', 'blow', 'border', 'branch', 'breast', 'brother', 'buddy', 'bunch', 'chip', 'coach', 'cross', 'document', 'draft', 'dust', 'expert', 'floor', 'god', 'golf', 'habit', 'iron', 'judge', 'knife', 'landscape', 'league', 'mail', 'mess', 'native', 'opening', 'parent', 'pattern', 'pin', 'pool', 'pound', 'request', 'salary', 'shame', 'shelter', 'shoe', 'silver', 'tackle', 'tank', 'trust', 'assist', 'bake', 'bar', 'bell', 'bike', 'blame', 'boy', 'brick', 'chair', 'closet', 'clue', 'collar', 'comment', 'conference', 'devil', 'diet', 'fear', 'fuel', 'glove', 'jacket', 'lunch', 'monitor', 'mortgage', 'nurse', 'pace', 'panic', 'peak', 'plane', 'reward', 'row', 'sandwich', 'shock', 'spite', 'spray', 'surprise', 'till', 'transition', 'weekend', 'welcome', 'yard', 'alarm', 'bend', 'bicycle', 'bite', 'blind', 'bottle', 'cable', 'candle', 'clerk', 'cloud', 'concert', 'counter', 'flower', 'grandfather', 'harm', 'knee', 'lawyer', 'leather', 'load', 'mirror', 'neck', 'pension', 'plate', 'purple', 'ruin', 'ship', 'skirt', 'slice', 'snow', 'specialist', 'stroke', 'switch', 'trash', 'tune', 'zone', 'anger', 'award', 'bid', 'bitter', 'boot', 'bug', 'camp', 'candy', 'carpet', 'cat', 'champion', 'channel', 'clock', 'comfort', 'cow', 'crack', 'engineer', 'entrance', 'fault', 'grass', 'guy', 'hell', 'highlight', 'incident', 'island', 'joke', 'jury', 'leg', 'lip', 'mate', 'motor', 'nerve', 'passage', 'pen', 'pride', 'priest', 'prize', 'promise', 'resident', 'resort', 'ring', 'roof', 'rope', 'sail', 'scheme', 'script', 'sock', 'station', 'toe', 'tower', 'truck', 'witness', 'you', 'it', 'can', 'will', 'if', 'one', 'many', 'most', 'other', 'use', 'make', 'good', 'look', 'help', 'go', 'great', 'being', 'few', 'might', 'still', 'public', 'read', 'keep', 'start', 'give', 'human', 'local', 'general', 'she', 'specific', 'long', 'play', 'feel', 'high', 'tonight', 'put', 'common', 'set', 'change', 'simple', 'past', 'big', 'possible', 'particular', 'today', 'major', 'personal', 'current', 'national', 'cut', 'natural', 'physical', 'show', 'try', 'check', 'second', 'call', 'move', 'pay', 'let', 'increase', 'single', 'individual', 'turn', 'ask', 'buy', 'guard', 'hold', 'main', 'offer', 'potential', 'professional', 'international', 'travel', 'cook', 'alternative', 'following', 'special', 'working', 'whole', 'dance', 'excuse', 'cold', 'commercial', 'low', 'purchase', 'deal', 'primary', 'worth', 'fall', 'necessary', 'positive', 'produce', 'search', 'present', 'spend', 'talk', 'creative', 'tell', 'cost', 'drive', 'green', 'support', 'glad', 'remove', 'return', 'run', 'complex', 'due', 'effective', 'middle', 'regular', 'reserve', 'independent', 'leave', 'original', 'reach', 'rest', 'serve', 'watch', 'beautiful', 'charge', 'active', 'break', 'negative', 'safe', 'stay', 'visit', 'visual', 'affect', 'cover', 'report', 'rise', 'walk', 'white', 'beyond', 'junior', 'pick', 'unique', 'anything', 'classic', 'final', 'lift', 'mix', 'private', 'stop', 'teach', 'western', 'concern', 'familiar', 'fly', 'official', 'broad', 'comfortable', 'gain', 'maybe', 'rich', 'save', 'stand', 'young', 'fail', 'heavy', 'hello', 'lead', 'listen', 'valuable', 'worry', 'handle', 'leading', 'meet', 'release', 'sell', 'finish', 'normal', 'press', 'ride', 'secret', 'spread', 'spring', 'tough', 'wait', 'brown', 'deep', 'display', 'flow', 'hit', 'objective', 'shoot', 'touch', 'cancel', 'chemical', 'cry', 'dump', 'extreme', 'push', 'conflict', 'eat', 'fill', 'formal', 'jump', 'kick', 'opposite', 'pass', 'pitch', 'remote', 'total', 'treat', 'vast', 'abuse', 'beat', 'burn', 'deposit', 'print', 'raise', 'sleep', 'somewhere', 'advance', 'anywhere', 'consist', 'dark', 'double', 'draw', 'equal', 'fix', 'hire', 'internal', 'join', 'kill', 'sensitive', 'tap', 'win', 'attack', 'claim', 'constant', 'drag', 'drink', 'guess', 'minor', 'pull', 'raw', 'soft', 'solid', 'wear', 'weird', 'wonder', 'annual', 'count', 'dead', 'doubt', 'feed', 'forever', 'impress', 'nobody', 'repeat', 'round', 'sing', 'slide', 'strip', 'whereas', 'wish', 'combine', 'command', 'dig', 'divide', 'equivalent', 'hang', 'hunt', 'initial', 'march', 'mention', 'smell', 'spiritual', 'survey', 'tie', 'adult', 'brief', 'crazy', 'escape', 'gather', 'hate', 'prior', 'repair', 'rough', 'sad', 'scratch', 'sick', 'strike', 'employ', 'external', 'hurt', 'illegal', 'laugh', 'lay', 'mobile', 'nasty', 'ordinary', 'respond', 'royal', 'senior', 'split', 'strain', 'struggle', 'swim', 'train', 'upper', 'wash', 'yellow', 'convert', 'crash', 'dependent', 'fold', 'funny', 'grab', 'hide', 'miss', 'permit', 'quote', 'recover', 'resolve', 'roll', 'sink', 'slip', 'spare', 'suspect', 'sweet', 'swing', 'twist', 'upstairs', 'usual', 'abroad', 'brave', 'calm', 'concentrate', 'estimate', 'grand', 'male', 'mine', 'prompt', 'quiet', 'refuse', 'regret', 'reveal', 'rush', 'shake', 'shift', 'shine', 'steal', 'suck', 'surround', 'anybody', 'bear', 'brilliant', 'dare', 'dear', 'delay', 'drunk', 'female', 'hurry', 'inevitable', 'invite', 'kiss', 'neat', 'pop', 'punch', 'quit', 'reply', 'representative', 'resist', 'rip', 'rub', 'silly', 'smile', 'spell', 'stretch', 'stupid', 'tear', 'temporary', 'tomorrow', 'wake', 'wrap', 'yesterday']\n"
     ]
    }
   ],
   "source": [
    "df = df['people']\n",
    "word_corpus = df.tolist()\n",
    "word_corpus.remove('a')\n",
    "print(word_corpus)"
   ]
  },
  {
   "cell_type": "code",
   "execution_count": 4,
   "id": "82493566",
   "metadata": {},
   "outputs": [
    {
     "name": "stdout",
     "output_type": "stream",
     "text": [
      "['history', 'way', 'art', 'world', 'information', 'map', 'two', 'family', 'government', 'health', 'system', 'computer', 'meat', 'year', 'thanks', 'music', 'person', 'reading', 'method', 'data', 'food', 'understanding', 'theory', 'law', 'bird', 'literature', 'problem', 'software', 'control', 'knowledge', 'power', 'ability', 'economics', 'love', 'internet', 'television', 'science', 'library', 'nature', 'fact', 'product', 'idea', 'temperature', 'investment', 'area', 'society', 'activity', 'story', 'industry', 'media', 'thing', 'oven', 'community', 'definition', 'safety', 'quality', 'development', 'language', 'management', 'player', 'variety', 'video', 'week', 'security', 'country', 'exam', 'movie', 'organization', 'equipment', 'physics', 'analysis', 'policy', 'series', 'thought', 'basis', 'boyfriend', 'direction', 'strategy', 'technology', 'army', 'camera', 'freedom', 'paper', 'environment', 'child', 'instance', 'month', 'truth', 'marketing', 'university', 'writing', 'article', 'department', 'difference', 'goal', 'news', 'audience', 'fishing', 'growth', 'income', 'marriage', 'user', 'combination', 'failure', 'meaning', 'medicine', 'philosophy', 'teacher', 'communication', 'night', 'chemistry', 'disease', 'disk', 'energy', 'nation', 'road', 'role', 'soup', 'advertising', 'location', 'success', 'addition', 'apartment', 'education', 'math', 'moment', 'painting', 'politics', 'attention', 'decision', 'event', 'property', 'shopping', 'student', 'wood', 'competition', 'distribution', 'entertainment', 'office', 'population', 'president', 'unit', 'category', 'cigarette', 'context', 'introduction', 'opportunity', 'performance', 'driver', 'flight', 'length', 'magazine', 'newspaper', 'relationship', 'teaching', 'cell', 'dealer', 'finding', 'lake', 'member', 'message', 'phone', 'scene', 'appearance', 'association', 'concept', 'customer', 'death', 'discussion', 'housing', 'inflation', 'insurance', 'mood', 'woman', 'advice', 'blood', 'effort', 'expression', 'importance', 'opinion', 'payment', 'reality', 'responsibility', 'situation', 'skill', 'statement', 'wealth', 'application', 'city', 'county', 'depth', 'estate', 'foundation', 'grandmother', 'heart', 'perspective', 'photo', 'recipe', 'studio', 'topic', 'collection', 'depression', 'imagination', 'passion', 'percentage', 'resource', 'setting', 'ad', 'agency', 'college', 'connection', 'criticism', 'debt', 'description', 'memory', 'patience', 'secretary', 'solution', 'administration', 'aspect', 'attitude', 'director', 'personality', 'psychology', 'recommendation', 'response', 'selection', 'storage', 'version', 'alcohol', 'argument', 'complaint', 'contract', 'emphasis', 'highway', 'loss', 'membership', 'possession', 'preparation', 'steak', 'union', 'agreement', 'cancer', 'currency', 'employment', 'engineering', 'entry', 'interaction', 'mixture', 'preference', 'region', 'republic', 'tradition', 'virus', 'actor', 'classroom', 'delivery', 'device', 'difficulty', 'drama', 'election', 'engine', 'football', 'guidance', 'hotel', 'owner', 'priority', 'protection', 'suggestion', 'tension', 'variation', 'anxiety', 'atmosphere', 'awareness', 'bath', 'bread', 'candidate', 'climate', 'comparison', 'confusion', 'construction', 'elevator', 'emotion', 'employee', 'employer', 'guest', 'height', 'leadership', 'mall', 'manager', 'operation', 'recording', 'sample', 'transportation', 'charity', 'cousin', 'disaster', 'editor', 'efficiency', 'excitement', 'extent', 'feedback', 'guitar', 'homework', 'leader', 'mom', 'outcome', 'permission', 'presentation', 'promotion', 'reflection', 'refrigerator', 'resolution', 'revenue', 'session', 'singer', 'tennis', 'basket', 'bonus', 'cabinet', 'childhood', 'church', 'clothes', 'coffee', 'dinner', 'drawing', 'hair', 'hearing', 'initiative', 'judgment', 'lab', 'measurement', 'mode', 'mud', 'orange', 'poetry', 'police', 'possibility', 'procedure', 'queen', 'ratio', 'relation', 'restaurant', 'satisfaction', 'sector', 'signature', 'significance', 'song', 'tooth', 'town', 'vehicle', 'volume', 'wife', 'accident', 'airport', 'appointment', 'arrival', 'assumption', 'baseball', 'chapter', 'committee', 'conversation', 'database', 'enthusiasm', 'error', 'explanation', 'farmer', 'gate', 'girl', 'hall', 'historian', 'hospital', 'injury', 'instruction', 'maintenance', 'manufacturer', 'meal', 'perception', 'pie', 'poem', 'presence', 'proposal', 'reception', 'replacement', 'revolution', 'river', 'son', 'speech', 'tea', 'village', 'warning', 'winner', 'worker', 'writer', 'assistance', 'breath', 'buyer', 'chest', 'chocolate', 'conclusion', 'contribution', 'cookie', 'courage', 'dad', 'desk', 'drawer', 'establishment', 'examination', 'garbage', 'grocery', 'honey', 'impression', 'improvement', 'independence', 'insect', 'inspection', 'inspector', 'king', 'ladder', 'menu', 'penalty', 'piano', 'potato', 'profession', 'professor', 'quantity', 'reaction', 'requirement', 'salad', 'sister', 'supermarket', 'tongue', 'weakness', 'wedding', 'affair', 'ambition', 'analyst', 'apple', 'assignment', 'assistant', 'bathroom', 'bedroom', 'beer', 'birthday', 'celebration', 'championship', 'cheek', 'client', 'consequence', 'departure', 'diamond', 'dirt', 'ear', 'fortune', 'friendship', 'funeral', 'gene', 'girlfriend', 'hat', 'indication', 'intention', 'lady', 'midnight', 'negotiation', 'obligation', 'passenger', 'pizza', 'platform', 'poet', 'pollution', 'recognition', 'reputation', 'shirt', 'sir', 'speaker', 'stranger', 'surgery', 'sympathy', 'tale', 'throat', 'trainer', 'uncle', 'youth', 'time', 'work', 'film', 'water', 'money', 'example', 'business', 'study', 'game', 'life', 'form', 'air', 'day', 'place', 'number', 'part', 'field', 'fish', 'back', 'process', 'heat', 'hand', 'experience', 'job', 'book', 'end', 'point', 'type', 'home', 'economy', 'value', 'body', 'market', 'guide', 'interest', 'state', 'radio', 'course', 'company', 'price', 'size', 'card', 'list', 'mind', 'trade', 'line', 'care', 'group', 'risk', 'word', 'fat', 'force', 'key', 'light', 'training', 'name', 'school', 'top', 'amount', 'level', 'order', 'practice', 'research', 'sense', 'service', 'piece', 'web', 'boss', 'sport', 'fun', 'house', 'page', 'term', 'test', 'answer', 'sound', 'focus', 'matter', 'kind', 'soil', 'board', 'oil', 'picture', 'access', 'garden', 'range', 'rate', 'reason', 'future', 'site', 'demand', 'exercise', 'image', 'case', 'cause', 'coast', 'action', 'age', 'bad', 'boat', 'record', 'result', 'section', 'building', 'mouse', 'cash', 'class', 'nothing', 'period', 'plan', 'store', 'tax', 'side', 'subject', 'space', 'rule', 'stock', 'weather', 'chance', 'figure', 'man', 'model', 'source', 'beginning', 'earth', 'program', 'chicken', 'design', 'feature', 'head', 'material', 'purpose', 'question', 'rock', 'salt', 'act', 'birth', 'car', 'dog', 'object', 'scale', 'sun', 'note', 'profit', 'rent', 'speed', 'style', 'war', 'bank', 'craft', 'half', 'inside', 'outside', 'standard', 'bus', 'exchange', 'eye', 'fire', 'position', 'pressure', 'stress', 'advantage', 'benefit', 'box', 'frame', 'issue', 'step', 'cycle', 'face', 'item', 'metal', 'paint', 'review', 'room', 'screen', 'structure', 'view', 'account', 'ball', 'discipline', 'medium', 'share', 'balance', 'bit', 'black', 'bottom', 'choice', 'gift', 'impact', 'machine', 'shape', 'tool', 'wind', 'address', 'average', 'career', 'culture', 'morning', 'pot', 'sign', 'table', 'task', 'condition', 'contact', 'credit', 'egg', 'hope', 'ice', 'network', 'north', 'square', 'attempt', 'date', 'effect', 'link', 'post', 'star', 'voice', 'capital', 'challenge', 'friend', 'self', 'shot', 'brush', 'couple', 'debate', 'exit', 'front', 'function', 'lack', 'living', 'plant', 'plastic', 'spot', 'summer', 'taste', 'theme', 'track', 'wing', 'brain', 'button', 'click', 'desire', 'foot', 'gas', 'influence', 'notice', 'rain', 'wall', 'base', 'damage', 'distance', 'feeling', 'pair', 'savings', 'staff', 'sugar', 'target', 'text', 'animal', 'author', 'budget', 'discount', 'file', 'ground', 'lesson', 'minute', 'officer', 'phase', 'reference', 'register', 'sky', 'stage', 'stick', 'title', 'trouble', 'bowl', 'bridge', 'campaign', 'character', 'club', 'edge', 'evidence', 'fan', 'letter', 'lock', 'maximum', 'novel', 'option', 'pack', 'park', 'plenty', 'quarter', 'skin', 'sort', 'weight', 'baby', 'background', 'carry', 'dish', 'factor', 'fruit', 'glass', 'joint', 'master', 'muscle', 'red', 'strength', 'traffic', 'trip', 'vegetable', 'appeal', 'chart', 'gear', 'ideal', 'kitchen', 'land', 'log', 'mother', 'net', 'party', 'principle', 'relative', 'sale', 'season', 'signal', 'spirit', 'street', 'tree', 'wave', 'belt', 'bench', 'commission', 'copy', 'drop', 'minimum', 'path', 'progress', 'project', 'sea', 'south', 'status', 'stuff', 'ticket', 'tour', 'angle', 'blue', 'breakfast', 'confidence', 'daughter', 'degree', 'doctor', 'dot', 'dream', 'duty', 'essay', 'father', 'fee', 'finance', 'hour', 'juice', 'limit', 'luck', 'milk', 'mouth', 'peace', 'pipe', 'seat', 'stable', 'storm', 'substance', 'team', 'trick', 'afternoon', 'bat', 'beach', 'blank', 'catch', 'chain', 'consideration', 'cream', 'crew', 'detail', 'gold', 'interview', 'kid', 'mark', 'match', 'mission', 'pain', 'pleasure', 'score', 'screw', 'sex', 'shop', 'shower', 'suit', 'tone', 'window', 'agent', 'band', 'block', 'bone', 'calendar', 'cap', 'coat', 'contest', 'corner', 'court', 'cup', 'district', 'door', 'east', 'finger', 'garage', 'guarantee', 'hole', 'hook', 'implement', 'layer', 'lecture', 'lie', 'manner', 'meeting', 'nose', 'parking', 'partner', 'profile', 'respect', 'rice', 'routine', 'schedule', 'swimming', 'telephone', 'tip', 'winter', 'airline', 'bag', 'battle', 'bed', 'bill', 'bother', 'cake', 'code', 'curve', 'designer', 'dimension', 'dress', 'ease', 'emergency', 'evening', 'extension', 'farm', 'fight', 'gap', 'grade', 'holiday', 'horror', 'horse', 'host', 'husband', 'loan', 'mistake', 'mountain', 'nail', 'noise', 'occasion', 'package', 'patient', 'pause', 'phrase', 'proof', 'race', 'relief', 'sand', 'sentence', 'shoulder', 'smoke', 'stomach', 'string', 'tourist', 'towel', 'vacation', 'west', 'wheel', 'wine', 'arm', 'aside', 'associate', 'bet', 'blow', 'border', 'branch', 'breast', 'brother', 'buddy', 'bunch', 'chip', 'coach', 'cross', 'document', 'draft', 'dust', 'expert', 'floor', 'god', 'golf', 'habit', 'iron', 'judge', 'knife', 'landscape', 'league', 'mail', 'mess', 'native', 'opening', 'parent', 'pattern', 'pin', 'pool', 'pound', 'request', 'salary', 'shame', 'shelter', 'shoe', 'silver', 'tackle', 'tank', 'trust', 'assist', 'bake', 'bar', 'bell', 'bike', 'blame', 'boy', 'brick', 'chair', 'closet', 'clue', 'collar', 'comment', 'conference', 'devil', 'diet', 'fear', 'fuel', 'glove', 'jacket', 'lunch', 'monitor', 'mortgage', 'nurse', 'pace', 'panic', 'peak', 'plane', 'reward', 'row', 'sandwich', 'shock', 'spite', 'spray', 'surprise', 'till', 'transition', 'weekend', 'welcome', 'yard', 'alarm', 'bend', 'bicycle', 'bite', 'blind', 'bottle', 'cable', 'candle', 'clerk', 'cloud', 'concert', 'counter', 'flower', 'grandfather', 'harm', 'knee', 'lawyer', 'leather', 'load', 'mirror', 'neck', 'pension', 'plate', 'purple', 'ruin', 'ship', 'skirt', 'slice', 'snow', 'specialist', 'stroke', 'switch', 'trash', 'tune', 'zone', 'anger', 'award', 'bid', 'bitter', 'boot', 'bug', 'camp', 'candy', 'carpet', 'cat', 'champion', 'channel', 'clock', 'comfort', 'cow', 'crack', 'engineer', 'entrance', 'fault', 'grass', 'guy', 'hell', 'highlight', 'incident', 'island', 'joke', 'jury', 'leg', 'lip', 'mate', 'motor', 'nerve', 'passage', 'pen', 'pride', 'priest', 'prize', 'promise', 'resident', 'resort', 'ring', 'roof', 'rope', 'sail', 'scheme', 'script', 'sock', 'station', 'toe', 'tower', 'truck', 'witness', 'one', 'many', 'use', 'make', 'good', 'look', 'help', 'go', 'great', 'might', 'still', 'public', 'read', 'keep', 'start', 'give', 'human', 'local', 'general', 'specific', 'long', 'play', 'feel', 'high', 'tonight', 'put', 'common', 'set', 'change', 'simple', 'past', 'big', 'possible', 'particular', 'today', 'major', 'personal', 'current', 'national', 'cut', 'natural', 'physical', 'show', 'try', 'check', 'second', 'call', 'move', 'pay', 'let', 'increase', 'single', 'individual', 'turn', 'ask', 'buy', 'guard', 'hold', 'main', 'offer', 'potential', 'professional', 'international', 'travel', 'cook', 'alternative', 'following', 'special', 'working', 'whole', 'dance', 'excuse', 'cold', 'commercial', 'low', 'purchase', 'deal', 'primary', 'worth', 'fall', 'necessary', 'positive', 'produce', 'search', 'present', 'spend', 'talk', 'creative', 'tell', 'cost', 'drive', 'green', 'support', 'glad', 'remove', 'return', 'run', 'complex', 'due', 'effective', 'middle', 'regular', 'reserve', 'independent', 'leave', 'original', 'reach', 'rest', 'serve', 'watch', 'beautiful', 'charge', 'active', 'break', 'negative', 'safe', 'stay', 'visit', 'visual', 'affect', 'cover', 'report', 'rise', 'walk', 'white', 'beyond', 'junior', 'pick', 'unique', 'anything', 'classic', 'final', 'lift', 'mix', 'private', 'stop', 'teach', 'western', 'concern', 'familiar', 'fly', 'official', 'broad', 'comfortable', 'gain', 'maybe', 'rich', 'save', 'stand', 'young', 'fail', 'heavy', 'hello', 'lead', 'listen', 'valuable', 'worry', 'handle', 'leading', 'meet', 'release', 'sell', 'finish', 'normal', 'press', 'ride', 'secret', 'spread', 'spring', 'tough', 'wait', 'brown', 'deep', 'display', 'flow', 'hit', 'objective', 'shoot', 'touch', 'cancel', 'chemical', 'cry', 'dump', 'extreme', 'push', 'conflict', 'eat', 'fill', 'formal', 'jump', 'kick', 'opposite', 'pass', 'pitch', 'remote', 'total', 'treat', 'vast', 'abuse', 'beat', 'burn', 'deposit', 'print', 'raise', 'sleep', 'somewhere', 'advance', 'anywhere', 'consist', 'dark', 'double', 'draw', 'equal', 'fix', 'hire', 'internal', 'join', 'kill', 'sensitive', 'tap', 'win', 'attack', 'claim', 'constant', 'drag', 'drink', 'guess', 'minor', 'pull', 'raw', 'soft', 'solid', 'wear', 'weird', 'wonder', 'annual', 'count', 'dead', 'doubt', 'feed', 'forever', 'impress', 'nobody', 'repeat', 'round', 'sing', 'slide', 'strip', 'whereas', 'wish', 'combine', 'command', 'dig', 'divide', 'equivalent', 'hang', 'hunt', 'initial', 'march', 'mention', 'smell', 'spiritual', 'survey', 'tie', 'adult', 'brief', 'crazy', 'escape', 'gather', 'hate', 'prior', 'repair', 'rough', 'sad', 'scratch', 'sick', 'strike', 'employ', 'external', 'hurt', 'illegal', 'laugh', 'lay', 'mobile', 'nasty', 'ordinary', 'respond', 'royal', 'senior', 'split', 'strain', 'struggle', 'swim', 'train', 'upper', 'wash', 'yellow', 'convert', 'crash', 'dependent', 'fold', 'funny', 'grab', 'hide', 'miss', 'permit', 'quote', 'recover', 'resolve', 'roll', 'sink', 'slip', 'spare', 'suspect', 'sweet', 'swing', 'twist', 'upstairs', 'usual', 'abroad', 'brave', 'calm', 'concentrate', 'estimate', 'grand', 'male', 'mine', 'prompt', 'quiet', 'refuse', 'regret', 'reveal', 'rush', 'shake', 'shift', 'shine', 'steal', 'suck', 'surround', 'anybody', 'bear', 'brilliant', 'dare', 'dear', 'delay', 'drunk', 'female', 'hurry', 'inevitable', 'invite', 'kiss', 'neat', 'pop', 'punch', 'quit', 'reply', 'representative', 'resist', 'rip', 'rub', 'silly', 'smile', 'spell', 'stretch', 'stupid', 'tear', 'temporary', 'tomorrow', 'wake', 'wrap', 'yesterday']\n"
     ]
    }
   ],
   "source": [
    "# Get the English stop words\n",
    "stop_words = set(stopwords.words('english'))\n",
    "\n",
    "# Remove the stop words from the list\n",
    "words = [word for word in word_corpus if word.lower() not in stop_words]\n",
    "\n",
    "print(words)"
   ]
  },
  {
   "cell_type": "markdown",
   "id": "e36aa625",
   "metadata": {},
   "source": [
    "<font color='blue'>Team Association"
   ]
  },
  {
   "cell_type": "code",
   "execution_count": 5,
   "id": "8ecb000b",
   "metadata": {},
   "outputs": [
    {
     "name": "stdout",
     "output_type": "stream",
     "text": [
      "['battle', 'restaurant', 'slip', 'charge', 'city', 'love', 'connection', 'drag']\n",
      "['poetry', 'raise', 'organization', 'champion', 'scheme', 'quarter', 'period', 'cover']\n",
      "['refuse', 'savings', 'bread', 'affect', 'comment', 'assistance', 'math', 'post']\n",
      "['understanding']\n"
     ]
    },
    {
     "name": "stderr",
     "output_type": "stream",
     "text": [
      "/var/folders/h_/j7jfxsn929n19yn9z525bp9h0000gn/T/ipykernel_21939/329972402.py:4: DeprecationWarning: Sampling from a set deprecated\n",
      "since Python 3.9 and will be removed in a subsequent version.\n",
      "  red_team = random.sample(set(random_words) - set(blue_team), 8)\n",
      "/var/folders/h_/j7jfxsn929n19yn9z525bp9h0000gn/T/ipykernel_21939/329972402.py:5: DeprecationWarning: Sampling from a set deprecated\n",
      "since Python 3.9 and will be removed in a subsequent version.\n",
      "  civilians = random.sample(set(random_words) - set(blue_team) - set(red_team), 8)\n",
      "/var/folders/h_/j7jfxsn929n19yn9z525bp9h0000gn/T/ipykernel_21939/329972402.py:6: DeprecationWarning: Sampling from a set deprecated\n",
      "since Python 3.9 and will be removed in a subsequent version.\n",
      "  assassin = random.sample(set(random_words) - set(blue_team) - set(red_team) - set(civilians), 1)\n"
     ]
    }
   ],
   "source": [
    "random_words = list(words)\n",
    "random.shuffle(random_words)\n",
    "blue_team = random.sample(random_words, 8)\n",
    "red_team = random.sample(set(random_words) - set(blue_team), 8)\n",
    "civilians = random.sample(set(random_words) - set(blue_team) - set(red_team), 8)\n",
    "assassin = random.sample(set(random_words) - set(blue_team) - set(red_team) - set(civilians), 1)\n",
    "\n",
    "print(blue_team)\n",
    "print(red_team)\n",
    "print(civilians)\n",
    "print(assassin)"
   ]
  },
  {
   "cell_type": "markdown",
   "id": "3b3ac9e6",
   "metadata": {},
   "source": [
    "<font color='blue'>Codenames for Matrix"
   ]
  },
  {
   "cell_type": "code",
   "execution_count": 6,
   "id": "7ae870fe",
   "metadata": {},
   "outputs": [
    {
     "name": "stdout",
     "output_type": "stream",
     "text": [
      "['period', 'affect', 'comment', 'city', 'organization', 'restaurant', 'post', 'assistance', 'cover', 'quarter', 'raise', 'connection', 'savings', 'drag', 'love', 'battle', 'champion', 'slip', 'refuse', 'scheme', 'bread', 'understanding', 'charge', 'math', 'poetry']\n"
     ]
    }
   ],
   "source": [
    "codenames = blue_team + red_team + civilians + assassin\n",
    "random.shuffle(codenames)\n",
    "print(codenames)"
   ]
  },
  {
   "cell_type": "markdown",
   "id": "4a3dadd7",
   "metadata": {},
   "source": [
    "<font color='blue'>Copy Codenames and Blue team words"
   ]
  },
  {
   "cell_type": "code",
   "execution_count": 7,
   "id": "0f0f3f12",
   "metadata": {},
   "outputs": [],
   "source": [
    "codenames1 = codenames.copy()\n",
    "blue_team1 = blue_team.copy()"
   ]
  },
  {
   "cell_type": "code",
   "execution_count": 8,
   "id": "84d333c0",
   "metadata": {},
   "outputs": [],
   "source": [
    "# Initialize the mixer module\n",
    "pygame.mixer.init()"
   ]
  },
  {
   "cell_type": "code",
   "execution_count": 9,
   "id": "7b9d0076",
   "metadata": {},
   "outputs": [],
   "source": [
    "# Load the sound effects\n",
    "click_sound = pygame.mixer.Sound('button.wav')\n",
    "score_sound = pygame.mixer.Sound('score.wav')\n",
    "end_game_sound = pygame.mixer.Sound('assassin.wav')"
   ]
  },
  {
   "cell_type": "markdown",
   "id": "2beac7c2",
   "metadata": {},
   "source": [
    "<font color='blue'>Load the glove dictionary from the binary file"
   ]
  },
  {
   "cell_type": "code",
   "execution_count": 10,
   "id": "9e3fe5e9",
   "metadata": {},
   "outputs": [],
   "source": [
    "with open('glove.pkl', 'rb') as f:\n",
    "    glove = pickle.load(f)"
   ]
  },
  {
   "cell_type": "markdown",
   "id": "ae7e2894",
   "metadata": {},
   "source": [
    "<font color='blue'>Initialize the WordNetLemmatizer"
   ]
  },
  {
   "cell_type": "code",
   "execution_count": 11,
   "id": "58358ca6",
   "metadata": {},
   "outputs": [],
   "source": [
    "wnl = WordNetLemmatizer()"
   ]
  },
  {
   "cell_type": "markdown",
   "id": "55eb362a",
   "metadata": {},
   "source": [
    "<font color='blue'>Define a function to check if a word is a plural form of any of the input words"
   ]
  },
  {
   "cell_type": "code",
   "execution_count": 12,
   "id": "078c7410",
   "metadata": {},
   "outputs": [],
   "source": [
    "def is_plural(word):\n",
    "    singular = wnl.lemmatize(word, pos=wordnet.NOUN)\n",
    "    return singular != word"
   ]
  },
  {
   "cell_type": "code",
   "execution_count": 13,
   "id": "2d290ffa",
   "metadata": {},
   "outputs": [],
   "source": [
    "def has_punctuation(word):\n",
    "    return any(char in string.punctuation for char in word)"
   ]
  },
  {
   "cell_type": "code",
   "execution_count": 14,
   "id": "f7f492b1",
   "metadata": {},
   "outputs": [],
   "source": [
    "def find_most_similar_and_order(user_clue, codenames, glove, topn=5):\n",
    "    # Calculate the cosine similarity between the input word and each word in the list\n",
    "    similarity_scores = []\n",
    "    for word in codenames:\n",
    "        if word in glove:\n",
    "            similarity_score = np.dot(glove[user_clue], glove[word]) / (np.linalg.norm(glove[user_clue]) * np.linalg.norm(glove[word]))\n",
    "            similarity_scores.append(similarity_score)\n",
    "        else:\n",
    "            similarity_scores.append(-1.0) # assign a default similarity score for out-of-vocabulary words\n",
    "\n",
    "    # Order the word list based on the cosine similarity scores\n",
    "    ordered_word_list = [word for _, word in sorted(zip(similarity_scores, codenames), reverse=True)]\n",
    "\n",
    "    # Find the most similar words to the input word\n",
    "    if user_clue not in glove:\n",
    "        most_similar_words = []\n",
    "    else:\n",
    "        user_clue_vector = glove[user_clue]\n",
    "        distances = cdist(user_clue_vector.reshape(1,-1), list(glove.values()), 'cosine')[0]\n",
    "        sorted_distances = np.argsort(distances)\n",
    "        closest_words = [list(glove.keys())[i] for i in sorted_distances[:topn+1]]\n",
    "        most_similar_words = [w for w in closest_words if w != user_clue and not is_plural(w) and not w.endswith('ing') and not w.endswith('ed') and not has_punctuation(w)][:topn]\n",
    "\n",
    "    return ordered_word_list, most_similar_words"
   ]
  },
  {
   "cell_type": "code",
   "execution_count": 15,
   "id": "e1df3954",
   "metadata": {
    "scrolled": true
   },
   "outputs": [
    {
     "name": "stdout",
     "output_type": "stream",
     "text": [
      "{'period': ['early'], 'affect': ['adversely', 'depend'], 'comment': ['statement'], 'city': ['town', 'downtown', 'mayor', 'area'], 'organization': ['organisation', 'nonprofit'], 'restaurant': ['cafe', 'eatery', 'hotel'], 'post': ['office', 'editorial'], 'assistance': ['aid', 'provide', 'assist', 'relief'], 'cover': [], 'quarter': ['earnings', 'fourth', 'half', 'profit'], 'raise': ['increase', 'interest'], 'connection': ['link', 'involvement'], 'savings': ['pension', 'insurance', 'deposit'], 'drag': ['rupaul', 'aerodynamic', 'friction'], 'love': ['passion', 'romantic'], 'battle': ['fought', 'fight', 'war'], 'champion': ['champ', 'medalist'], 'slip': ['catch', 'caught', 'slide'], 'refuse': ['accept', 'refusal'], 'scheme': ['scam', 'plan', 'fraud', 'ponzi'], 'bread': ['loaf', 'flour', 'butter', 'cheese'], 'understanding': ['knowledge', 'understand', 'cooperation', 'respect', 'profound'], 'charge': ['guilty'], 'math': ['mathematics', 'literacy', 'proficiency'], 'poetry': ['literature', 'prose', 'literary']}\n"
     ]
    }
   ],
   "source": [
    "similar_words = {word: find_most_similar_and_order(word, codenames, glove)[1] for word in codenames}\n",
    "print(similar_words)"
   ]
  },
  {
   "cell_type": "markdown",
   "id": "c0b92a4f",
   "metadata": {},
   "source": [
    "<font color='blue'>Game State - Score"
   ]
  },
  {
   "cell_type": "code",
   "execution_count": 16,
   "id": "fe718157",
   "metadata": {},
   "outputs": [],
   "source": [
    "game_state = {\n",
    "    'blue_score': 0,\n",
    "    'red_score': 0,\n",
    "}"
   ]
  },
  {
   "cell_type": "markdown",
   "id": "2bc08c3f",
   "metadata": {},
   "source": [
    "<font color='blue'>Set Theme"
   ]
  },
  {
   "cell_type": "code",
   "execution_count": 17,
   "id": "14b1c9fc",
   "metadata": {},
   "outputs": [
    {
     "data": {
      "text/plain": [
       "'DarkPurple'"
      ]
     },
     "execution_count": 17,
     "metadata": {},
     "output_type": "execute_result"
    }
   ],
   "source": [
    "sg.theme('DarkPurple')"
   ]
  },
  {
   "cell_type": "code",
   "execution_count": 18,
   "id": "3f1f6494",
   "metadata": {},
   "outputs": [],
   "source": [
    "spell = SpellChecker()"
   ]
  },
  {
   "cell_type": "markdown",
   "id": "990a3a62",
   "metadata": {},
   "source": [
    "<font color='blue'>Define Layout with User and Computer Clues"
   ]
  },
  {
   "cell_type": "code",
   "execution_count": 19,
   "id": "4aaa65dc",
   "metadata": {},
   "outputs": [],
   "source": [
    "user_clue = sg.Text('', key=\"-USER_CLUE-\", font=('Trebuchet MS', 18))\n",
    "print_clue = sg.Text('', key=\"-COMPUTER_CLUE-\", font=('Trebuchet MS', 18))\n",
    "num_words_str = sg.Text('', key=\"-NUM_WORDS-\", font=('Trebuchet MS', 18))\n",
    "\n",
    "# Define the layout for the start window\n",
    "start_layout = [\n",
    "    [sg.Text('Welcome to the Game!', font=('Trebuchet MS', 16))],\n",
    "    [sg.Button('Start Game', font=('Trebuchet MS', 16), key='-START_GAME-')],\n",
    "    [sg.Button('Exit Game', font=('Trebuchet MS', 16), key='-EXIT_GAME-')]\n",
    "]"
   ]
  },
  {
   "cell_type": "markdown",
   "id": "bc77eb07",
   "metadata": {},
   "source": [
    "<font color='blue'>Window"
   ]
  },
  {
   "cell_type": "code",
   "execution_count": 20,
   "id": "a965c083",
   "metadata": {},
   "outputs": [],
   "source": [
    "# Create the start window\n",
    "start_window = sg.Window('Codenames', start_layout, \n",
    "                         element_justification='center',\n",
    "                         size = (800,700))"
   ]
  },
  {
   "cell_type": "markdown",
   "id": "879c07cb",
   "metadata": {},
   "source": [
    "<font color='blue'>Clue Generator"
   ]
  },
  {
   "cell_type": "code",
   "execution_count": 21,
   "id": "d64c4910",
   "metadata": {},
   "outputs": [],
   "source": [
    "def generate_clue(blue_team_words):\n",
    "    target_word = random.choice(blue_team_words)\n",
    "    most_similar_word = random.choice(similar_words[target_word])\n",
    "    clue = f\"{most_similar_word.title()}\"\n",
    "    num_words = sum([1 for word in blue_team_words if most_similar_word in similar_words[word]])\n",
    "    return clue, num_words\n",
    "\n",
    "blue_team_words = blue_team.copy()\n",
    "clue = generate_clue(blue_team_words)"
   ]
  },
  {
   "cell_type": "markdown",
   "id": "ebe5c4ed",
   "metadata": {},
   "source": [
    "<font color='blue'>User Clue Function - similarity scores"
   ]
  },
  {
   "cell_type": "markdown",
   "id": "6c31c2e3",
   "metadata": {},
   "source": [
    "<font color='blue'>Define Custom Colors"
   ]
  },
  {
   "cell_type": "code",
   "execution_count": 22,
   "id": "cc96ea2b",
   "metadata": {},
   "outputs": [],
   "source": [
    "# Defining Custom tile colors\n",
    "custom_color_red = ('#6c757d', '#d00000')\n",
    "custom_color_blue = ('#6c757d', 'blue')\n",
    "custom_color_civilians = ('#6c757d','#D3D3D3')\n",
    "custom_color_assassin = ('#6c757d', '#000000')"
   ]
  },
  {
   "cell_type": "markdown",
   "id": "d999b805",
   "metadata": {},
   "source": [
    "<font color='blue'>Button Color Change Function"
   ]
  },
  {
   "cell_type": "code",
   "execution_count": 23,
   "id": "3c3e069c",
   "metadata": {},
   "outputs": [],
   "source": [
    "def change_color(button):\n",
    "    word = button.get_text()\n",
    "    if word in blue_team:\n",
    "        button.update(button_color = custom_color_blue)\n",
    "        game_state['blue_score'] += 1\n",
    "        game_window['blue_score'].update(game_state['blue_score'])\n",
    "        score_sound.play()\n",
    "        if game_state['blue_score'] == 8:\n",
    "            end_game(\"blue\")\n",
    "    elif word in red_team:\n",
    "        button.update(button_color = custom_color_red)\n",
    "        game_state['red_score'] += 1\n",
    "        game_window['red_score'].update(game_state['red_score'])\n",
    "        if game_state['red_score'] == 8:\n",
    "            end_game(\"red\")\n",
    "    elif word in civilians:\n",
    "        button.update(button_color = custom_color_civilians)\n",
    "    else:\n",
    "        button.update(button_color = custom_color_assassin)\n",
    "        # End the game if the assassin word is clicked\n",
    "        for i in range(5):\n",
    "            for j in range(5):\n",
    "                button = game_window[(i, j)]\n",
    "                button.update(disabled=True)\n",
    "        end_game_sound.play()\n",
    "        \n",
    "# Function to check if score has reached point 8 for either of the teams and end the game\n",
    "def end_game(winner):\n",
    "    # Disable all buttons and display the winner\n",
    "    for i in range(5):\n",
    "        for j in range(5):\n",
    "            button = game_window[(i, j)]\n",
    "            button.update(disabled=True)\n",
    "    game_window['-COMPUTER_CLUE-'].update(f\"{winner.upper()} TEAM WINS!\")\n",
    "    end_game_sound.play()"
   ]
  },
  {
   "cell_type": "markdown",
   "id": "1b6071f6",
   "metadata": {},
   "source": [
    "<font color='blue'>Codemaster Layout(2)"
   ]
  },
  {
   "cell_type": "code",
   "execution_count": 24,
   "id": "481c8bea",
   "metadata": {},
   "outputs": [],
   "source": [
    "codenames2 = codenames.copy()\n",
    "layout2 = []\n",
    "for i in range(5):\n",
    "    row2 = []\n",
    "    for j in range(5):\n",
    "        word = codenames2.pop(0)\n",
    "        if word in blue_team:\n",
    "            button_color=('blue', 'blue')\n",
    "        elif word in red_team:\n",
    "            button_color=('red', 'red')\n",
    "        elif word in civilians:\n",
    "            button_color=('gray', 'gray')\n",
    "        else:\n",
    "            button_color=('black', 'black')\n",
    "        row2.append(sg.Button(key=(i, j), button_color = button_color, size=(2, 2)))\n",
    "    layout2.append(row2)"
   ]
  },
  {
   "cell_type": "markdown",
   "id": "1e401022",
   "metadata": {},
   "source": [
    "<font color='blue'>Window 2"
   ]
  },
  {
   "cell_type": "code",
   "execution_count": 25,
   "id": "7408bfdc",
   "metadata": {},
   "outputs": [],
   "source": [
    "window2 = sg.Window('Codemaster Matrix', layout2, size = (400,400), finalize=True)"
   ]
  },
  {
   "cell_type": "markdown",
   "id": "d123777c",
   "metadata": {},
   "source": [
    "<font color='blue'>Run Codenames Game"
   ]
  },
  {
   "cell_type": "code",
   "execution_count": 26,
   "id": "21fcdeaf",
   "metadata": {},
   "outputs": [],
   "source": [
    "# Event loop for the Start_window\n",
    "while True:\n",
    "    start_event, start_values = start_window.read()\n",
    "    if start_event in (sg.WIN_CLOSED, '-EXIT_GAME-'):\n",
    "        break\n",
    "    elif start_event == '-START_GAME-':\n",
    "        # Closing start window after 'Start Game' is clicked\n",
    "        start_window.close()\n",
    "        \n",
    "        # Define the layout for the actual game_window\n",
    "        left = [\n",
    "            [sg.Text('User Clue: ', font=('Trebuchet MS', 16)), sg.InputText(key=\"-USER_CLUE_INPUT-\", size = (20,2))],\n",
    "            [sg.Text('Enter Number: ', font=('Trebuchet MS', 16)), sg.InputText(key=\"-NUM_WORDS_INPUT-\", size = (20,2))],\n",
    "            [user_clue],\n",
    "            [num_words_str],\n",
    "            [sg.Column([[sg.Button('Submit Clue', font=('Trebuchet MS', 16))]])]   \n",
    "            ]\n",
    "\n",
    "        center = [\n",
    "            [sg.Text('WE ARE ON THE BLUE TEAM', font=('Trebuchet MS', 16), text_color='white')],\n",
    "            [sg.Text('Blue Score:', font=('Trebuchet MS', 16)), sg.Text(game_state['blue_score'], key='blue_score', font=('Trebuchet MS', 16))],\n",
    "            [sg.Text('Red Score:', font=('Trebuchet MS', 16)), sg.Text(game_state['red_score'], key='red_score', font=('Trebuchet MS', 16))]\n",
    "            ]\n",
    "\n",
    "        right = [\n",
    "            [sg.Text('Computer Clue: ', font=('Trebuchet MS', 16))],\n",
    "            [print_clue],\n",
    "            [sg.Column([[sg.Button('Next Clue', font=('Trebuchet MS', 16))]], pad=(0, 20))]\n",
    "            ]\n",
    "        \n",
    "        # Adding the game_layout\n",
    "        layout = [\n",
    "            [sg.Column(left, element_justification='left'),\n",
    "             sg.Column(center, element_justification='center'),\n",
    "             sg.Column(right, element_justification='right')],\n",
    "            ]\n",
    "\n",
    "        for i in range(5):\n",
    "            row = []\n",
    "            for j in range(5):\n",
    "                word = codenames1.pop(0)\n",
    "                row.append(sg.Button(word, key=(i, j), size=(12, 2), font=('Trebuchet MS', 12)))\n",
    "            layout.append(row)\n",
    "        \n",
    "        # Creating the game_window\n",
    "        game_window = sg.Window('Codenames Matrix', layout, size = (800,700))\n",
    "        event2, values2 = window2.read(timeout=100)\n",
    "        if event2 == (sg.WINDOW_CLOSED, sg.TIMEOUT_EVENT):\n",
    "            break\n",
    "        \n",
    "        while True:\n",
    "            game_event, game_values = game_window.read()\n",
    "            if game_event in (sg.WIN_CLOSED, '-EXIT_GAME-'):\n",
    "                break\n",
    "            # Event Loop for the game window - to handle event 'submit clue'\n",
    "            elif game_event == 'Submit Clue':\n",
    "                user_clue = values[\"-USER_CLUE_INPUT-\"]\n",
    "                # Check if the user's input word is spelled correctly\n",
    "                misspelled = spell.unknown([user_clue])\n",
    "                if misspelled:\n",
    "                    # Get the most likely correction\n",
    "                    correction = spell.correction(user_clue)\n",
    "                    # Replace the user's input word with the correction\n",
    "                    user_clue = correction\n",
    "                game_window[\"-USER_CLUE-\"].update(user_clue)\n",
    "                num_words_str = values[\"-NUM_WORDS_INPUT-\"]\n",
    "                game_window[\"-NUM_WORDS-\"].update(num_words_str)\n",
    "                num_words = int(num_words_str)  # convert the value to an integer\n",
    "                comp_guess, most_similar_words = find_most_similar_and_order(user_clue, codenames, glove)\n",
    "                for i in range(5):\n",
    "                    for j in range(5):\n",
    "                        button = game_window[(i, j)]\n",
    "                        for word in comp_guess[:num_words]:\n",
    "                            if word == button.get_text():\n",
    "                                change_color(button)\n",
    "                                break \n",
    "                            \n",
    "            # Event Loop to handle event 'Next Clue'\n",
    "            elif game_event == 'Next Clue':\n",
    "                clue, num_words = generate_clue(blue_team_words)\n",
    "                print_clue.update(clue)\n",
    "                game_window[\"-NUM_WORDS-\"].update(num_words)\n",
    "            elif isinstance(game_event, tuple):               # Check if a button was clicked\n",
    "                button = game_window[game_event]\n",
    "                change_color(button)\n",
    "                word = button.get_text()\n",
    "                if word in blue_team:\n",
    "                    blue_team_words.remove(word)\n",
    "                click_sound.play()"
   ]
  },
  {
   "cell_type": "markdown",
   "id": "84d6f653",
   "metadata": {},
   "source": [
    "<font color='blue'>Close Windows"
   ]
  },
  {
   "cell_type": "code",
   "execution_count": 27,
   "id": "4525a3b7",
   "metadata": {},
   "outputs": [],
   "source": [
    "start_window.close()\n",
    "window2.close()"
   ]
  }
 ],
 "metadata": {
  "kernelspec": {
   "display_name": "Python 3 (ipykernel)",
   "language": "python",
   "name": "python3"
  },
  "language_info": {
   "codemirror_mode": {
    "name": "ipython",
    "version": 3
   },
   "file_extension": ".py",
   "mimetype": "text/x-python",
   "name": "python",
   "nbconvert_exporter": "python",
   "pygments_lexer": "ipython3",
   "version": "3.9.12"
  }
 },
 "nbformat": 4,
 "nbformat_minor": 5
}
