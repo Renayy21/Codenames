{
 "cells": [
  {
   "cell_type": "markdown",
   "id": "2e50dddd",
   "metadata": {},
   "source": [
    "# Codenames - Final Sprint"
   ]
  },
  {
   "cell_type": "markdown",
   "id": "e30c68d4",
   "metadata": {},
   "source": [
    "<font color='green'><b>Renee, Husein, George"
   ]
  },
  {
   "cell_type": "markdown",
   "id": "5fc13861",
   "metadata": {},
   "source": [
    "<font color='blue'>Libraries"
   ]
  },
  {
   "cell_type": "code",
   "execution_count": 1,
   "id": "53336727",
   "metadata": {},
   "outputs": [
    {
     "name": "stderr",
     "output_type": "stream",
     "text": [
      "[nltk_data] Downloading package wordnet to /Users/reneec/nltk_data...\n",
      "[nltk_data]   Package wordnet is already up-to-date!\n"
     ]
    },
    {
     "name": "stdout",
     "output_type": "stream",
     "text": [
      "pygame 2.4.0 (SDL 2.26.4, Python 3.9.12)\n",
      "Hello from the pygame community. https://www.pygame.org/contribute.html\n"
     ]
    }
   ],
   "source": [
    "import pandas as pd\n",
    "import numpy as np\n",
    "import random\n",
    "import PySimpleGUI as sg\n",
    "import pickle\n",
    "from scipy.spatial.distance import cdist\n",
    "from nltk.stem import WordNetLemmatizer\n",
    "from nltk.corpus import wordnet\n",
    "import nltk\n",
    "nltk.download('wordnet')\n",
    "import pickle\n",
    "import string\n",
    "from scipy.spatial.distance import cosine\n",
    "from sklearn.metrics.pairwise import cosine_similarity\n",
    "from spellchecker import SpellChecker\n",
    "import pygame\n",
    "from collections import Counter\n",
    "import itertools"
   ]
  },
  {
   "cell_type": "markdown",
   "id": "40ff9a6e",
   "metadata": {},
   "source": [
    "<font color='blue'>Read CSV File"
   ]
  },
  {
   "cell_type": "code",
   "execution_count": 2,
   "id": "28116633",
   "metadata": {
    "scrolled": true
   },
   "outputs": [
    {
     "data": {
      "text/plain": [
       "0    AFRICA\n",
       "1     AGENT\n",
       "2       AIR\n",
       "3     ALIEN\n",
       "4      ALPS\n",
       "Name: Codenames, dtype: object"
      ]
     },
     "execution_count": 2,
     "metadata": {},
     "output_type": "execute_result"
    }
   ],
   "source": [
    "df = pd.read_csv('codenames.csv')\n",
    "df = df['Codenames']\n",
    "df.head()"
   ]
  },
  {
   "cell_type": "code",
   "execution_count": 3,
   "id": "03439f7c",
   "metadata": {},
   "outputs": [],
   "source": [
    "#data = pd.read_csv('your_file.txt', delimiter='\\t')\n",
    "#data = df['Acne']"
   ]
  },
  {
   "cell_type": "markdown",
   "id": "f5fdd20e",
   "metadata": {},
   "source": [
    "<font color='blue'>DF to List"
   ]
  },
  {
   "cell_type": "code",
   "execution_count": 4,
   "id": "0ed7b1f2",
   "metadata": {
    "scrolled": true
   },
   "outputs": [
    {
     "name": "stdout",
     "output_type": "stream",
     "text": [
      "['africa', 'agent', 'air', 'alien', 'alps', 'amazon', 'ambulance', 'america', 'angel', 'antarctica', 'apple', 'arm', 'atlantis', 'australia', 'aztec', 'back', 'ball', 'band', 'bank', 'bar', 'bark', 'bat', 'battery', 'beach', 'bear', 'beat', 'bed', 'beijing', 'bell', 'belt', 'berlin', 'bermuda', 'berry', 'bill', 'block', 'board', 'bolt', 'bomb', 'bond', 'boom', 'boot', 'bottle', 'bow', 'box', 'bridge', 'brush', 'buck', 'buffalo', 'bug', 'bugle', 'button', 'calf', 'canada', 'cap', 'capital', 'car', 'card', 'carrot', 'casino', 'cast', 'cat', 'cell', 'centaur', 'center', 'chair', 'change', 'charge', 'check', 'chest', 'chick', 'china', 'chocolate', 'church', 'circle', 'cliff', 'cloak', 'club', 'code', 'cold', 'comic', 'compound', 'concert', 'conductor', 'contract', 'cook', 'copper', 'cotton', 'court', 'cover', 'crane', 'crash', 'cricket', 'cross', 'crown', 'cycle', 'czech', 'dance', 'date', 'day', 'death', 'deck', 'degree', 'diamond', 'dice', 'dinosaur', 'disease', 'doctor', 'dog', 'draft', 'dragon', 'dress', 'drill', 'drop', 'duck', 'dwarf', 'eagle', 'egypt', 'embassy', 'engine', 'england', 'europe', 'eye', 'face', 'fair', 'fall', 'fan', 'fence', 'field', 'fighter', 'figure', 'file', 'film', 'fire', 'fish', 'flute', 'fly', 'foot', 'force', 'forest', 'fork', 'france', 'game', 'gas', 'genius', 'germany', 'ghost', 'giant', 'glass', 'glove', 'gold', 'grace', 'grass', 'greece', 'green', 'ground', 'ham', 'hand', 'hawk', 'head', 'heart', 'helicopter', 'himalayas', 'hole', 'hollywood', 'honey', 'hood', 'hook', 'horn', 'horse', 'horseshoe', 'hospital', 'hotel', 'ice', 'ice cream', 'india', 'iron', 'ivory', 'jack', 'jam', 'jet', 'jupiter', 'kangaroo', 'ketchup', 'key', 'kid', 'king', 'kiwi', 'knife', 'knight', 'lab', 'lap', 'laser', 'lawyer', 'lead', 'lemon', 'leprechaun', 'life', 'light', 'limousine', 'line', 'link', 'lion', 'litter', 'loch ness', 'lock', 'log', 'london', 'luck', 'mail', 'mammoth', 'maple', 'marble', 'march', 'mass', 'match', 'mercury', 'mexico', 'microscope', 'millionaire', 'mine', 'mint', 'missile', 'model', 'mole', 'moon', 'moscow', 'mount', 'mouse', 'mouth', 'mug', 'nail', 'needle', 'net', 'new york', 'night', 'ninja', 'note', 'novel', 'nurse', 'nut', 'octopus', 'oil', 'olive', 'olympus', 'opera', 'orange', 'organ', 'palm', 'pan', 'pants', 'paper', 'parachute', 'park', 'part', 'pass', 'paste', 'penguin', 'phoenix', 'piano', 'pie', 'pilot', 'pin', 'pipe', 'pirate', 'pistol', 'pit', 'pitch', 'plane', 'plastic', 'plate', 'platypus', 'play', 'plot', 'point', 'poison', 'pole', 'police', 'pool', 'port', 'post', 'pound', 'press', 'princess', 'pumpkin', 'pupil', 'pyramid', 'queen', 'rabbit', 'racket', 'ray', 'revolution', 'ring', 'robin', 'robot', 'rock', 'rome', 'root', 'rose', 'roulette', 'round', 'row', 'ruler', 'satellite', 'saturn', 'scale', 'school', 'scientist', 'scorpion', 'screen', 'scuba diver', 'seal', 'server', 'shadow', 'shakespeare', 'shark', 'ship', 'shoe', 'shop', 'shot', 'sink', 'skyscraper', 'slip', 'slug', 'smuggler', 'snow', 'snowman', 'sock', 'soldier', 'soul', 'sound', 'space', 'spell', 'spider', 'spike', 'spine', 'spot', 'spring', 'spy', 'square', 'stadium', 'staff', 'star', 'state', 'stick', 'stock', 'straw', 'stream', 'strike', 'string', 'sub', 'suit', 'superhero', 'swing', 'switch', 'table', 'tablet', 'tag', 'tail', 'tap', 'teacher', 'telescope', 'temple', 'theater', 'thief', 'thumb', 'tick', 'tie', 'time', 'tokyo', 'tooth', 'torch', 'tower', 'track', 'train', 'triangle', 'trip', 'trunk', 'tube', 'turkey', 'undertaker', 'unicorn', 'vacuum', 'van', 'vet', 'wake', 'wall', 'war', 'washer', 'washington', 'watch', 'water', 'wave', 'web', 'well', 'whale', 'whip', 'wind', 'witch', 'worm', 'yard']\n"
     ]
    }
   ],
   "source": [
    "words = df.tolist()\n",
    "#wordss = data.tolist()\n",
    "#words = words + wordss\n",
    "words = [word.lower() for word in words]\n",
    "print(words)"
   ]
  },
  {
   "cell_type": "markdown",
   "id": "d49ae5bd",
   "metadata": {},
   "source": [
    "<font color='blue'>Remove words that are not complatible with the model"
   ]
  },
  {
   "cell_type": "code",
   "execution_count": 5,
   "id": "cfe2914d",
   "metadata": {},
   "outputs": [],
   "source": [
    "# #words.remove(\"applesauc\")\n",
    "# #words.remove(\"new york\")\n",
    "# #words.remove(\"loiterer\")\n",
    "# words.remove(\"loch ness\")\n",
    "# words.remove(\"ice cream\")\n",
    "# words.remove('scuba diver')\n",
    "# words.remove('baby-sitter')\n",
    "# words.remove('tachometer')\n",
    "# words.remove('hem')\n",
    "# words.remove('baseboards')\n",
    "# words.remove('scoundrel')\n",
    "# words.remove('bedbug')"
   ]
  },
  {
   "cell_type": "markdown",
   "id": "8d350d47",
   "metadata": {},
   "source": [
    "<font color='blue'>Check for duplicates"
   ]
  },
  {
   "cell_type": "code",
   "execution_count": 6,
   "id": "4af622d7",
   "metadata": {},
   "outputs": [
    {
     "name": "stdout",
     "output_type": "stream",
     "text": [
      "No duplicates found.\n"
     ]
    }
   ],
   "source": [
    "if len(words) != len(set(words)):\n",
    "    print('There are duplicates in the list!')\n",
    "else:\n",
    "    print('No duplicates found.')"
   ]
  },
  {
   "cell_type": "markdown",
   "id": "11078244",
   "metadata": {},
   "source": [
    "<font color='blue'>Remove Dupes"
   ]
  },
  {
   "cell_type": "code",
   "execution_count": 7,
   "id": "95d1064a",
   "metadata": {
    "scrolled": true
   },
   "outputs": [],
   "source": [
    "words = list(set(words))"
   ]
  },
  {
   "cell_type": "code",
   "execution_count": 8,
   "id": "b434177f",
   "metadata": {
    "scrolled": true
   },
   "outputs": [
    {
     "data": {
      "text/plain": [
       "400"
      ]
     },
     "execution_count": 8,
     "metadata": {},
     "output_type": "execute_result"
    }
   ],
   "source": [
    "len(words)"
   ]
  },
  {
   "cell_type": "markdown",
   "id": "e36aa625",
   "metadata": {},
   "source": [
    "<font color='blue'>Team Association"
   ]
  },
  {
   "cell_type": "code",
   "execution_count": 9,
   "id": "8ecb000b",
   "metadata": {},
   "outputs": [
    {
     "name": "stdout",
     "output_type": "stream",
     "text": [
      "['pole', 'fan', 'ninja', 'well', 'eye', 'strike', 'ruler', 'bug']\n",
      "['hawk', 'club', 'tokyo', 'limousine', 'heart', 'stock', 'bill', 'game']\n",
      "['conductor', 'beat', 'date', 'cross', 'laser', 'hood', 'file', 'cold']\n",
      "['center']\n"
     ]
    },
    {
     "name": "stderr",
     "output_type": "stream",
     "text": [
      "/var/folders/h_/j7jfxsn929n19yn9z525bp9h0000gn/T/ipykernel_7275/2379310973.py:4: DeprecationWarning: Sampling from a set deprecated\n",
      "since Python 3.9 and will be removed in a subsequent version.\n",
      "  red_team = random.sample(set(random_words) - set(blue_team), 8)\n",
      "/var/folders/h_/j7jfxsn929n19yn9z525bp9h0000gn/T/ipykernel_7275/2379310973.py:5: DeprecationWarning: Sampling from a set deprecated\n",
      "since Python 3.9 and will be removed in a subsequent version.\n",
      "  civilians = random.sample(set(random_words) - set(blue_team) - set(red_team), 8)\n",
      "/var/folders/h_/j7jfxsn929n19yn9z525bp9h0000gn/T/ipykernel_7275/2379310973.py:6: DeprecationWarning: Sampling from a set deprecated\n",
      "since Python 3.9 and will be removed in a subsequent version.\n",
      "  assassin = random.sample(set(random_words) - set(blue_team) - set(red_team) - set(civilians), 1)\n"
     ]
    }
   ],
   "source": [
    "random_words = list(words)\n",
    "random.shuffle(random_words)\n",
    "blue_team = random.sample(random_words, 8)\n",
    "red_team = random.sample(set(random_words) - set(blue_team), 8)\n",
    "civilians = random.sample(set(random_words) - set(blue_team) - set(red_team), 8)\n",
    "assassin = random.sample(set(random_words) - set(blue_team) - set(red_team) - set(civilians), 1)\n",
    "print(blue_team)\n",
    "print(red_team)\n",
    "print(civilians)\n",
    "print(assassin)"
   ]
  },
  {
   "cell_type": "markdown",
   "id": "3b3ac9e6",
   "metadata": {},
   "source": [
    "<font color='blue'>Codenames for Matrix"
   ]
  },
  {
   "cell_type": "code",
   "execution_count": 10,
   "id": "7ae870fe",
   "metadata": {
    "scrolled": true
   },
   "outputs": [
    {
     "name": "stdout",
     "output_type": "stream",
     "text": [
      "['conductor', 'center', 'tokyo', 'bug', 'game', 'heart', 'hawk', 'stock', 'laser', 'well', 'ninja', 'fan', 'beat', 'cold', 'ruler', 'date', 'hood', 'file', 'bill', 'limousine', 'club', 'eye', 'cross', 'strike', 'pole']\n"
     ]
    }
   ],
   "source": [
    "codenames = blue_team + red_team + civilians + assassin\n",
    "random.shuffle(codenames)\n",
    "print(codenames)"
   ]
  },
  {
   "cell_type": "markdown",
   "id": "4a3dadd7",
   "metadata": {},
   "source": [
    "<font color='blue'>Copy Codenames and Blue team words"
   ]
  },
  {
   "cell_type": "code",
   "execution_count": 11,
   "id": "0f0f3f12",
   "metadata": {},
   "outputs": [],
   "source": [
    "codenames1 = codenames.copy()\n",
    "codenames2 = codenames.copy()\n",
    "blue_team1 = blue_team.copy()"
   ]
  },
  {
   "cell_type": "code",
   "execution_count": 12,
   "id": "84d333c0",
   "metadata": {},
   "outputs": [],
   "source": [
    "# Initialize the mixer module\n",
    "pygame.mixer.init()"
   ]
  },
  {
   "cell_type": "code",
   "execution_count": 13,
   "id": "7b9d0076",
   "metadata": {},
   "outputs": [],
   "source": [
    "# Load the sound effects\n",
    "click_sound = pygame.mixer.Sound('button.wav')\n",
    "score_sound = pygame.mixer.Sound('score.wav')\n",
    "end_game_sound = pygame.mixer.Sound('assassin.wav')\n",
    "win_sound = pygame.mixer.Sound('win.wav')"
   ]
  },
  {
   "cell_type": "code",
   "execution_count": 14,
   "id": "27495f31",
   "metadata": {},
   "outputs": [],
   "source": [
    "# Create a layout for the loading window\n",
    "images = [sg.Image(filename=\"Codenames1.png\")]"
   ]
  },
  {
   "cell_type": "code",
   "execution_count": 15,
   "id": "6eeef7e6",
   "metadata": {},
   "outputs": [],
   "source": [
    "# Create a layout for the loading window\n",
    "loading_layout = [[image] for image in images]"
   ]
  },
  {
   "cell_type": "code",
   "execution_count": 16,
   "id": "5faddd81",
   "metadata": {},
   "outputs": [],
   "source": [
    "# Get the screen resolution\n",
    "screen_width, screen_height = sg.Window.get_screen_size()"
   ]
  },
  {
   "cell_type": "code",
   "execution_count": 17,
   "id": "f878144a",
   "metadata": {},
   "outputs": [],
   "source": [
    "# Create the loading window\n",
    "loading_window = sg.Window(\"Loading\", loading_layout, size=(screen_width, screen_height), location=(0, 0))"
   ]
  },
  {
   "cell_type": "code",
   "execution_count": 18,
   "id": "07a5fb74",
   "metadata": {},
   "outputs": [
    {
     "data": {
      "text/plain": [
       "('__TIMEOUT__', {})"
      ]
     },
     "execution_count": 18,
     "metadata": {},
     "output_type": "execute_result"
    }
   ],
   "source": [
    "# Display the loading window\n",
    "loading_window.read(timeout=100)"
   ]
  },
  {
   "cell_type": "markdown",
   "id": "2beac7c2",
   "metadata": {},
   "source": [
    "<font color='blue'>Load the glove dictionary from the binary file"
   ]
  },
  {
   "cell_type": "code",
   "execution_count": 19,
   "id": "9e3fe5e9",
   "metadata": {},
   "outputs": [],
   "source": [
    "with open('gloveupdated1.pkl', 'rb') as f:\n",
    "    glove = pickle.load(f)"
   ]
  },
  {
   "cell_type": "markdown",
   "id": "ae7e2894",
   "metadata": {},
   "source": [
    "<font color='blue'>Initialize the WordNetLemmatizer"
   ]
  },
  {
   "cell_type": "code",
   "execution_count": 20,
   "id": "58358ca6",
   "metadata": {},
   "outputs": [],
   "source": [
    "wnl = WordNetLemmatizer()"
   ]
  },
  {
   "cell_type": "markdown",
   "id": "55eb362a",
   "metadata": {},
   "source": [
    "<font color='blue'>Define a function to check if a word is a plural form of any of the input words"
   ]
  },
  {
   "cell_type": "code",
   "execution_count": 21,
   "id": "078c7410",
   "metadata": {},
   "outputs": [],
   "source": [
    "def is_plural(word):\n",
    "    singular = wnl.lemmatize(word, pos=wordnet.NOUN)\n",
    "    return singular != word"
   ]
  },
  {
   "cell_type": "code",
   "execution_count": 22,
   "id": "2d290ffa",
   "metadata": {},
   "outputs": [],
   "source": [
    "def has_punctuation(word):\n",
    "    return any(char in string.punctuation for char in word)"
   ]
  },
  {
   "cell_type": "code",
   "execution_count": 23,
   "id": "f7f492b1",
   "metadata": {},
   "outputs": [],
   "source": [
    "def find_most_similar_and_order(user_clue, codenames, glove, topn=5):\n",
    "    # Calculate the cosine similarity between the input word and each word in the list\n",
    "    similarity_scores = []\n",
    "    for word in codenames:\n",
    "        if word in glove:\n",
    "            similarity_score = np.dot(glove[user_clue], glove[word]) / (np.linalg.norm(glove[user_clue]) * np.linalg.norm(glove[word]))\n",
    "            similarity_scores.append(similarity_score)\n",
    "        else:\n",
    "            similarity_scores.append(-0.5) # assign a default similarity score for out-of-vocabulary words\n",
    "\n",
    "    # Order the word list based on the cosine similarity scores\n",
    "    ordered_word_list = [word for _, word in sorted(zip(similarity_scores, codenames), reverse=True)]\n",
    "\n",
    "    # Find the most similar words to the input word\n",
    "    if user_clue not in glove:\n",
    "        most_similar_words = []\n",
    "    else:\n",
    "        user_clue_vector = glove[user_clue]\n",
    "        # Filter out any vectors that do not have the same size as the majority of the vectors in the glove dictionary\n",
    "        glove_filtered = {k: v for k, v in glove.items() if v.shape == user_clue_vector.shape}\n",
    "        distances = cdist(user_clue_vector.reshape(1,-1), np.vstack(list(glove_filtered.values())), 'cosine')[0]\n",
    "        sorted_distances = np.argsort(distances)\n",
    "        closest_words = [list(glove_filtered.keys())[i] for i in sorted_distances[:topn+1]]\n",
    "        most_similar_words = [w for w in closest_words if w != user_clue and not is_plural(w) and not w.endswith('ing') and not w.endswith('ed') and not has_punctuation(w)][:topn]\n",
    "\n",
    "    return ordered_word_list, most_similar_words"
   ]
  },
  {
   "cell_type": "code",
   "execution_count": 24,
   "id": "e1df3954",
   "metadata": {
    "scrolled": true
   },
   "outputs": [
    {
     "name": "stdout",
     "output_type": "stream",
     "text": [
      "{'conductor': ['chofer', 'autobús', 'coche', 'taxi', 'jefe'], 'center': ['centre', 'hall', 'community', 'park', 'area'], 'tokyo': ['japan', 'osaka', 'seoul', 'nagoya'], 'bug': ['spider', 'rat', 'virus'], 'game': ['play', 'football', 'basketball', 'beat'], 'heart': ['broken', 'soul', 'love', 'hurt'], 'hawk': ['eagle', 'falcon', 'tiger', 'hill'], 'stock': ['market', 'price'], 'laser': ['printer', 'lazer', 'eye', 'paintball'], 'well': ['but', 'yeah', 'good', 'though', 'sure'], 'ninja': ['zombie', 'pokemon', 'mutant', 'robot', 'mode'], 'fan': ['belieber', 'one', 'directioner', 'hater'], 'beat': ['play', 'game', 'let'], 'cold': ['warm', 'weather', 'outside', 'sick'], 'ruler': ['protractor', 'measure', 'tyrant', 'pencil'], 'date': ['next', 'wait', 'first', 'boyfriend'], 'hood': ['nigga', 'ghetto', 'thug', 'aint'], 'file': ['folder', 'document', 'format', 'pdf'], 'bill': ['tax', 'senate', 'obama', 'pay'], 'limousine': ['limo', 'hummer', 'chauffeur'], 'club': ['party', 'city', 'league', 'bar'], 'eye': ['head', 'mouth', 'hand'], 'cross': ['road', 'walk'], 'strike': ['attack', 'protest'], 'pole': ['vettel', 'podium', 'hamilton']}\n"
     ]
    }
   ],
   "source": [
    "similar_words = {word: find_most_similar_and_order(word, codenames, glove)[1] for word in codenames}\n",
    "print(similar_words)"
   ]
  },
  {
   "cell_type": "code",
   "execution_count": 25,
   "id": "e8d0deb2",
   "metadata": {},
   "outputs": [],
   "source": [
    "# Close the loading window\n",
    "loading_window.close()"
   ]
  },
  {
   "cell_type": "markdown",
   "id": "c0b92a4f",
   "metadata": {},
   "source": [
    "<font color='blue'>Game State - Score"
   ]
  },
  {
   "cell_type": "code",
   "execution_count": 26,
   "id": "fe718157",
   "metadata": {},
   "outputs": [],
   "source": [
    "game_state = {\n",
    "    'blue_score': 0,\n",
    "    'red_score': 0,\n",
    "}"
   ]
  },
  {
   "cell_type": "markdown",
   "id": "2bc08c3f",
   "metadata": {},
   "source": [
    "<font color='blue'>Set Theme"
   ]
  },
  {
   "cell_type": "code",
   "execution_count": 27,
   "id": "14b1c9fc",
   "metadata": {},
   "outputs": [
    {
     "data": {
      "text/plain": [
       "'DarkPurple1'"
      ]
     },
     "execution_count": 27,
     "metadata": {},
     "output_type": "execute_result"
    }
   ],
   "source": [
    "# All themes available in PySimpleGUI\n",
    "themes = sg.theme_list()\n",
    "# Randomly generating a theme for the game\n",
    "theme = random.choice(themes)\n",
    "sg.theme(theme)\n"
   ]
  },
  {
   "cell_type": "code",
   "execution_count": 28,
   "id": "9c934cef",
   "metadata": {},
   "outputs": [
    {
     "data": {
      "text/plain": [
       "True"
      ]
     },
     "execution_count": 28,
     "metadata": {},
     "output_type": "execute_result"
    }
   ],
   "source": [
    "sg.set_options(font=('arcadeclassic', 16))"
   ]
  },
  {
   "cell_type": "code",
   "execution_count": 29,
   "id": "3f1f6494",
   "metadata": {},
   "outputs": [],
   "source": [
    "spell = SpellChecker()"
   ]
  },
  {
   "cell_type": "markdown",
   "id": "bc77eb07",
   "metadata": {},
   "source": [
    "<font color='blue'>Window"
   ]
  },
  {
   "cell_type": "code",
   "execution_count": 30,
   "id": "f8a6563e",
   "metadata": {},
   "outputs": [],
   "source": [
    "#window = sg.Window('Codenames Matrix', layout, size = (800,700))"
   ]
  },
  {
   "cell_type": "markdown",
   "id": "879c07cb",
   "metadata": {},
   "source": [
    "<font color='blue'>Clue Generator"
   ]
  },
  {
   "cell_type": "code",
   "execution_count": 31,
   "id": "d64c4910",
   "metadata": {},
   "outputs": [],
   "source": [
    "def generate_clue(blue_team_words):\n",
    "    target_word = random.choice(blue_team_words)\n",
    "    most_similar_word = random.choice(similar_words[target_word])\n",
    "    clue = f\"{most_similar_word.title()}\"\n",
    "    num_words = sum([1 for word in blue_team_words if most_similar_word in similar_words[word]])\n",
    "    return clue, num_words\n",
    "\n",
    "blue_team_words = blue_team.copy()\n",
    "clue = generate_clue(blue_team_words)"
   ]
  },
  {
   "cell_type": "markdown",
   "id": "ebe5c4ed",
   "metadata": {},
   "source": [
    "<font color='blue'>User Clue Function - similarity scores"
   ]
  },
  {
   "cell_type": "markdown",
   "id": "6c31c2e3",
   "metadata": {},
   "source": [
    "<font color='blue'>Define Custom Colors"
   ]
  },
  {
   "cell_type": "code",
   "execution_count": 32,
   "id": "cc96ea2b",
   "metadata": {},
   "outputs": [],
   "source": [
    "# Defining Custom tile colors\n",
    "custom_color_red = ('#6c757d', '#d00000')\n",
    "custom_color_blue = ('#6c757d', 'blue')\n",
    "custom_color_civilians = ('#6c757d','#D3D3D3')\n",
    "custom_color_assassin = ('#6c757d', '#000000')"
   ]
  },
  {
   "cell_type": "markdown",
   "id": "d999b805",
   "metadata": {},
   "source": [
    "<font color='blue'>Button Color Change Function"
   ]
  },
  {
   "cell_type": "code",
   "execution_count": 33,
   "id": "3c3e069c",
   "metadata": {},
   "outputs": [],
   "source": [
    "def change_color(button):\n",
    "    word = button.get_text()\n",
    "    if word in blue_team:\n",
    "        button.update(button_color = custom_color_blue)\n",
    "        game_state['blue_score'] += 1\n",
    "        window['blue_score'].update(game_state['blue_score'])\n",
    "        score_sound.play()\n",
    "        if game_state['blue_score'] == 8:\n",
    "            end_game(\"blue\")\n",
    "    elif word in red_team:\n",
    "        button.update(button_color = custom_color_red)\n",
    "        game_state['red_score'] += 1\n",
    "        window['red_score'].update(game_state['red_score'])\n",
    "        click_sound.play()\n",
    "        if game_state['red_score'] == 8:\n",
    "            end_game(\"red\")\n",
    "    elif word in civilians:\n",
    "        button.update(button_color = custom_color_civilians)\n",
    "        click_sound.play()\n",
    "    else:\n",
    "        button.update(button_color = custom_color_assassin)\n",
    "        window['-GAME_OVER-'].update(f\"GAME OVER\")\n",
    "        # End the game if the assassin word is clicked\n",
    "        for i in range(5):\n",
    "            for j in range(5):\n",
    "                button = window[(i, j)]\n",
    "                button.update(disabled=True)\n",
    "        end_game_sound.play()\n",
    "\n",
    "def end_game(winner):\n",
    "    # Disable all buttons and display the winner\n",
    "    for i in range(5):\n",
    "        for j in range(5):\n",
    "            button = window[(i, j)]\n",
    "            button.update(disabled=True)\n",
    "    window['-GAME_OVER-'].update(f\"{winner.upper()} TEAM WINS!\")\n",
    "    win_sound.play()"
   ]
  },
  {
   "cell_type": "code",
   "execution_count": 34,
   "id": "8ba5e1b0",
   "metadata": {},
   "outputs": [],
   "source": [
    "def create_windows(codenames1, codenames2):\n",
    "    user_clue = sg.Text('', key=\"-USER_CLUE-\", font=('arcadeclassic', 18))\n",
    "    print_clue = sg.Text('', key=\"-COMPUTER_CLUE-\", font=('arcadeclassic', 18))\n",
    "    num_words_str = sg.Text('', key=\"-NUM_WORDS-\", font=('arcadeclassic', 18))\n",
    "    game_over = [sg.Text('', key=\"-GAME_OVER-\", font = ('arcadeclassic', 30))]\n",
    "    \n",
    "    left = [\n",
    "        [sg.Text('User Clue: ', font=('arcadeclassic', 16)), sg.InputText(key=\"-USER_CLUE_INPUT-\", size = (20,2), pad = (10,0,0,10))],\n",
    "        [sg.Text('Enter Number: ', font=('arcadeclassic', 16)), sg.InputText(key=\"-NUM_WORDS_INPUT-\", size = (20,2), pad = (20,0,0,20))],\n",
    "        [user_clue],\n",
    "        [num_words_str],\n",
    "        [sg.Column([[sg.Button('Submit Clue', font=('arcadeclassic', 16))]])]   \n",
    "    ]\n",
    "\n",
    "    center = [\n",
    "        [sg.Text('Blue Score:', font=('arcadeclassic', 16)), sg.Text(game_state['blue_score'], key='blue_score', font=('arcadeclassic', 16))],\n",
    "        [sg.Text('Red Score:', font=('arcadeclassic', 16)), sg.Text(game_state['red_score'], key='red_score', font=('arcadeclassic', 16))]\n",
    "    ]\n",
    "    \n",
    "    right = [\n",
    "        [sg.Text('Computer Clue: ', font=('arcadeclassic', 16))],\n",
    "        [print_clue],\n",
    "        [sg.Column([[sg.Button('Next Clue', font=('arcadeclassic', 16))]])]\n",
    "    ]\n",
    "    \n",
    "\n",
    "    layout = [\n",
    "        [sg.Column(left, element_justification='left'),\n",
    "         sg.Column(center, element_justification='center'),\n",
    "         sg.Column(right, element_justification='right')],\n",
    "    ]\n",
    "    \n",
    "    codenames_iter = itertools.cycle(codenames1)\n",
    "\n",
    "    for i in range(5):\n",
    "        row = []\n",
    "        for j in range(5):\n",
    "            word = next(codenames_iter)\n",
    "            row.append(sg.Button(word, key=(i, j), size=(12, 2), font=('arcadeclassic', 12)))\n",
    "        layout.append(row)\n",
    "    \n",
    "    button_row = [\n",
    "        sg.Button('Exit'), \n",
    "        sg.Button('Restart'),\n",
    "        sg.Text('WE ARE ON THE BLUE TEAM', font=('arcadeclassic', 16), text_color='Blue', pad = (0,10,10,100))\n",
    "    ]\n",
    "\n",
    "    layout.append(button_row)\n",
    "    \n",
    "    layout.append(game_over)\n",
    "     \n",
    "    #Layout2\n",
    "    \n",
    "    codenames_iter2 = itertools.cycle(codenames2)\n",
    "    \n",
    "    layout2 = []\n",
    "    for i in range(5):\n",
    "        row2 = []\n",
    "        for j in range(5):\n",
    "            word = next(codenames_iter2)\n",
    "            if word in blue_team:\n",
    "                button_color=('blue', 'blue')\n",
    "            elif word in red_team:\n",
    "                button_color=('red', 'red')\n",
    "            elif word in civilians:\n",
    "                button_color=('gray', 'gray')\n",
    "            else:\n",
    "                button_color=('black', 'black')\n",
    "            row2.append(sg.Button(key=(i, j), button_color = button_color, size=(2, 2)))\n",
    "        layout2.append(row2)\n",
    "    \n",
    "    window = sg.Window('Codenames Matrix', layout, size = (900,700))\n",
    "    window2 = sg.Window('Codemaster Matrix', layout2, size = (400,400), finalize=True)\n",
    "    \n",
    "    return window, window2"
   ]
  },
  {
   "cell_type": "markdown",
   "id": "1e401022",
   "metadata": {},
   "source": [
    "<font color='blue'>Window 2"
   ]
  },
  {
   "cell_type": "code",
   "execution_count": 35,
   "id": "ecdcb77c",
   "metadata": {},
   "outputs": [],
   "source": [
    "window, window2 = create_windows(codenames1, codenames2)"
   ]
  },
  {
   "cell_type": "markdown",
   "id": "d123777c",
   "metadata": {},
   "source": [
    "<font color='blue'>Run Codenames Game"
   ]
  },
  {
   "cell_type": "code",
   "execution_count": null,
   "id": "21fcdeaf",
   "metadata": {},
   "outputs": [],
   "source": [
    "while True:\n",
    "    event2, values2 = window2.read(timeout=100)\n",
    "    if event2 == sg.WINDOW_CLOSED:\n",
    "        break\n",
    "    event, values = window.read()\n",
    "    if event in (None, 'Exit'):\n",
    "        break\n",
    "     # Exit button\n",
    "    if event == 'Exit' or event == sg.WIN_CLOSED:\n",
    "        break\n",
    "    # Restart button\n",
    "    if event == 'Restart':\n",
    "        # Reset the game state\n",
    "        game_state = {\n",
    "            'blue_score': 0,\n",
    "            'red_score': 0,\n",
    "        }\n",
    "\n",
    "        # Generate new words\n",
    "        random_words = list(words)\n",
    "        random.shuffle(random_words)\n",
    "        blue_team = random.sample(random_words, 8)\n",
    "        red_team = random.sample(set(random_words) - set(blue_team), 8)\n",
    "        civilians = random.sample(set(random_words) - set(blue_team) - set(red_team), 8)\n",
    "        assassin = random.sample(set(random_words) - set(blue_team) - set(red_team) - set(civilians), 1)\n",
    "        codenames = blue_team + red_team + civilians + assassin\n",
    "        random.shuffle(codenames)\n",
    "        codenames1 = codenames.copy()\n",
    "        codenames2 = codenames.copy()\n",
    "        blue_team1 = blue_team.copy()\n",
    "\n",
    "         # Update the blue_team_words list with the new blue team words\n",
    "        blue_team_words = blue_team.copy()\n",
    "\n",
    "        # Recalculate the similar_words dictionary\n",
    "        similar_words = {word: find_most_similar_and_order(word, codenames, glove)[1] for word in codenames}\n",
    "\n",
    "        # Close and recreate the windows\n",
    "        window.close()\n",
    "        window2.close()\n",
    "        window, window2 = create_windows(codenames1, codenames2)\n",
    "    elif event == 'Submit Clue':\n",
    "        user_clue = values[\"-USER_CLUE_INPUT-\"]\n",
    "        # Check if the user's input word is spelled correctly\n",
    "        misspelled = spell.unknown([user_clue])\n",
    "        if misspelled:\n",
    "            # Get the most likely correction\n",
    "            correction = spell.correction(user_clue)\n",
    "            # Replace the user's input word with the correction\n",
    "            user_clue = correction\n",
    "        window[\"-USER_CLUE-\"].update(user_clue)\n",
    "        num_words_str = values[\"-NUM_WORDS_INPUT-\"]\n",
    "        window[\"-NUM_WORDS-\"].update(num_words_str)\n",
    "        try:\n",
    "            num_words = int(num_words_str)  # convert the value to an integer\n",
    "        except ValueError:\n",
    "            num_words = 0\n",
    "        comp_guess, most_similar_words = find_most_similar_and_order(user_clue, codenames, glove)\n",
    "        for i in range(5):\n",
    "            for j in range(5):\n",
    "                button = window[(i, j)]\n",
    "                if num_words == 0:\n",
    "                    window['-USER_CLUE-'].update(f\"Please Enter Valid Clue\")\n",
    "                else:\n",
    "                    for word in comp_guess[:num_words]:\n",
    "                        if game_state['blue_score'] == 8:\n",
    "                            end_game('blue')\n",
    "                        elif game_state['red_score'] == 8:\n",
    "                            end_game('red')    \n",
    "                        elif word == button.get_text():\n",
    "                            change_color(button)\n",
    "                            if word in blue_team:\n",
    "                                codenames.remove(word)\n",
    "                                blue_team_words.remove(word)\n",
    "                            elif word in red_team:\n",
    "                                codenames.remove(word)\n",
    "                            elif word in civilians:\n",
    "                                codenames.remove(word)\n",
    "                            else:\n",
    "                                pass\n",
    "                        else:\n",
    "                            pass\n",
    "    elif event == 'Next Clue':\n",
    "        if len(blue_team_words) != 0:\n",
    "            clue, num_words = generate_clue(blue_team_words)\n",
    "            window[\"-COMPUTER_CLUE-\"].update(clue)\n",
    "            window[\"-NUM_WORDS-\"].update(num_words)\n",
    "        else:\n",
    "            pass\n",
    "    elif isinstance(event, tuple): # Check if a button was clicked\n",
    "        button = window[event]\n",
    "        change_color(button)\n",
    "        word = button.get_text()\n",
    "        if word in blue_team:\n",
    "            blue_team_words.remove(word)\n",
    "            click_sound.play()\n",
    "            if len(blue_team_words) == 0:\n",
    "                pass"
   ]
  },
  {
   "cell_type": "markdown",
   "id": "84d6f653",
   "metadata": {},
   "source": [
    "<font color='blue'>Close Windows"
   ]
  },
  {
   "cell_type": "code",
   "execution_count": null,
   "id": "4525a3b7",
   "metadata": {},
   "outputs": [],
   "source": [
    "window.close()\n",
    "window2.close()"
   ]
  }
 ],
 "metadata": {
  "kernelspec": {
   "display_name": "Python 3 (ipykernel)",
   "language": "python",
   "name": "python3"
  },
  "language_info": {
   "codemirror_mode": {
    "name": "ipython",
    "version": 3
   },
   "file_extension": ".py",
   "mimetype": "text/x-python",
   "name": "python",
   "nbconvert_exporter": "python",
   "pygments_lexer": "ipython3",
   "version": "3.9.12"
  }
 },
 "nbformat": 4,
 "nbformat_minor": 5
}
